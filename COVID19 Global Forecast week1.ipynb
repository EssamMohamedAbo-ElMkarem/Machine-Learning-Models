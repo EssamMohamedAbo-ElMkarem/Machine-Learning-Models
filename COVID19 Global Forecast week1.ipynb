{
 "cells": [
  {
   "cell_type": "code",
   "execution_count": 301,
   "metadata": {},
   "outputs": [],
   "source": [
    "import pandas as pd\n",
    "from sklearn.preprocessing import PolynomialFeatures\n",
    "from sklearn.linear_model import LinearRegression\n",
    "from sklearn.model_selection import train_test_split\n",
    "import numpy as np"
   ]
  },
  {
   "cell_type": "code",
   "execution_count": 302,
   "metadata": {},
   "outputs": [],
   "source": [
    "df = pd.read_csv('data_copy.csv')"
   ]
  },
  {
   "cell_type": "code",
   "execution_count": 253,
   "metadata": {},
   "outputs": [
    {
     "data": {
      "text/html": [
       "<div>\n",
       "<style scoped>\n",
       "    .dataframe tbody tr th:only-of-type {\n",
       "        vertical-align: middle;\n",
       "    }\n",
       "\n",
       "    .dataframe tbody tr th {\n",
       "        vertical-align: top;\n",
       "    }\n",
       "\n",
       "    .dataframe thead th {\n",
       "        text-align: right;\n",
       "    }\n",
       "</style>\n",
       "<table border=\"1\" class=\"dataframe\">\n",
       "  <thead>\n",
       "    <tr style=\"text-align: right;\">\n",
       "      <th></th>\n",
       "      <th>Id</th>\n",
       "      <th>Province/State</th>\n",
       "      <th>Country/Region</th>\n",
       "      <th>Lat</th>\n",
       "      <th>Long</th>\n",
       "      <th>Date</th>\n",
       "      <th>ConfirmedCases</th>\n",
       "      <th>Fatalities</th>\n",
       "    </tr>\n",
       "  </thead>\n",
       "  <tbody>\n",
       "    <tr>\n",
       "      <th>0</th>\n",
       "      <td>1</td>\n",
       "      <td>NaN</td>\n",
       "      <td>Afghanistan</td>\n",
       "      <td>33.0</td>\n",
       "      <td>65.0</td>\n",
       "      <td>2020-01-22</td>\n",
       "      <td>0.0</td>\n",
       "      <td>0.0</td>\n",
       "    </tr>\n",
       "    <tr>\n",
       "      <th>1</th>\n",
       "      <td>2</td>\n",
       "      <td>NaN</td>\n",
       "      <td>Afghanistan</td>\n",
       "      <td>33.0</td>\n",
       "      <td>65.0</td>\n",
       "      <td>2020-01-23</td>\n",
       "      <td>0.0</td>\n",
       "      <td>0.0</td>\n",
       "    </tr>\n",
       "    <tr>\n",
       "      <th>2</th>\n",
       "      <td>3</td>\n",
       "      <td>NaN</td>\n",
       "      <td>Afghanistan</td>\n",
       "      <td>33.0</td>\n",
       "      <td>65.0</td>\n",
       "      <td>2020-01-24</td>\n",
       "      <td>0.0</td>\n",
       "      <td>0.0</td>\n",
       "    </tr>\n",
       "    <tr>\n",
       "      <th>3</th>\n",
       "      <td>4</td>\n",
       "      <td>NaN</td>\n",
       "      <td>Afghanistan</td>\n",
       "      <td>33.0</td>\n",
       "      <td>65.0</td>\n",
       "      <td>2020-01-25</td>\n",
       "      <td>0.0</td>\n",
       "      <td>0.0</td>\n",
       "    </tr>\n",
       "    <tr>\n",
       "      <th>4</th>\n",
       "      <td>5</td>\n",
       "      <td>NaN</td>\n",
       "      <td>Afghanistan</td>\n",
       "      <td>33.0</td>\n",
       "      <td>65.0</td>\n",
       "      <td>2020-01-26</td>\n",
       "      <td>0.0</td>\n",
       "      <td>0.0</td>\n",
       "    </tr>\n",
       "  </tbody>\n",
       "</table>\n",
       "</div>"
      ],
      "text/plain": [
       "   Id Province/State Country/Region   Lat  Long        Date  ConfirmedCases  \\\n",
       "0   1            NaN    Afghanistan  33.0  65.0  2020-01-22             0.0   \n",
       "1   2            NaN    Afghanistan  33.0  65.0  2020-01-23             0.0   \n",
       "2   3            NaN    Afghanistan  33.0  65.0  2020-01-24             0.0   \n",
       "3   4            NaN    Afghanistan  33.0  65.0  2020-01-25             0.0   \n",
       "4   5            NaN    Afghanistan  33.0  65.0  2020-01-26             0.0   \n",
       "\n",
       "   Fatalities  \n",
       "0         0.0  \n",
       "1         0.0  \n",
       "2         0.0  \n",
       "3         0.0  \n",
       "4         0.0  "
      ]
     },
     "execution_count": 253,
     "metadata": {},
     "output_type": "execute_result"
    }
   ],
   "source": [
    "df.head()"
   ]
  },
  {
   "cell_type": "code",
   "execution_count": 254,
   "metadata": {},
   "outputs": [
    {
     "name": "stdout",
     "output_type": "stream",
     "text": [
      "Number of Country/Region is 163\n",
      "Countries with Province/State informed are ['Australia' 'Canada' 'China' 'Cruise Ship' 'Denmark' 'France'\n",
      " 'Netherlands' 'US' 'United Kingdom']\n"
     ]
    }
   ],
   "source": [
    "print(\"Number of Country/Region is\", df['Country/Region'].nunique())\n",
    "\n",
    "print(\"Countries with Province/State informed are\"\n",
    "      , df[df['Province/State'].isna()==False]['Country/Region'].unique())"
   ]
  },
  {
   "cell_type": "code",
   "execution_count": 255,
   "metadata": {},
   "outputs": [
    {
     "data": {
      "text/html": [
       "<div>\n",
       "<style scoped>\n",
       "    .dataframe tbody tr th:only-of-type {\n",
       "        vertical-align: middle;\n",
       "    }\n",
       "\n",
       "    .dataframe tbody tr th {\n",
       "        vertical-align: top;\n",
       "    }\n",
       "\n",
       "    .dataframe thead th {\n",
       "        text-align: right;\n",
       "    }\n",
       "</style>\n",
       "<table border=\"1\" class=\"dataframe\">\n",
       "  <thead>\n",
       "    <tr style=\"text-align: right;\">\n",
       "      <th></th>\n",
       "      <th>Id</th>\n",
       "      <th>Lat</th>\n",
       "      <th>Long</th>\n",
       "      <th>ConfirmedCases</th>\n",
       "      <th>Fatalities</th>\n",
       "    </tr>\n",
       "  </thead>\n",
       "  <tbody>\n",
       "    <tr>\n",
       "      <th>count</th>\n",
       "      <td>17892.000000</td>\n",
       "      <td>17892.000000</td>\n",
       "      <td>17892.000000</td>\n",
       "      <td>17892.000000</td>\n",
       "      <td>17892.000000</td>\n",
       "    </tr>\n",
       "    <tr>\n",
       "      <th>mean</th>\n",
       "      <td>13191.500000</td>\n",
       "      <td>26.287693</td>\n",
       "      <td>4.766191</td>\n",
       "      <td>325.207523</td>\n",
       "      <td>11.974737</td>\n",
       "    </tr>\n",
       "    <tr>\n",
       "      <th>std</th>\n",
       "      <td>7624.675152</td>\n",
       "      <td>22.935092</td>\n",
       "      <td>79.923261</td>\n",
       "      <td>3538.599684</td>\n",
       "      <td>174.346267</td>\n",
       "    </tr>\n",
       "    <tr>\n",
       "      <th>min</th>\n",
       "      <td>1.000000</td>\n",
       "      <td>-41.454500</td>\n",
       "      <td>-157.498300</td>\n",
       "      <td>0.000000</td>\n",
       "      <td>0.000000</td>\n",
       "    </tr>\n",
       "    <tr>\n",
       "      <th>25%</th>\n",
       "      <td>6596.250000</td>\n",
       "      <td>13.145425</td>\n",
       "      <td>-71.516375</td>\n",
       "      <td>0.000000</td>\n",
       "      <td>0.000000</td>\n",
       "    </tr>\n",
       "    <tr>\n",
       "      <th>50%</th>\n",
       "      <td>13191.500000</td>\n",
       "      <td>32.985550</td>\n",
       "      <td>9.775000</td>\n",
       "      <td>0.000000</td>\n",
       "      <td>0.000000</td>\n",
       "    </tr>\n",
       "    <tr>\n",
       "      <th>75%</th>\n",
       "      <td>19786.750000</td>\n",
       "      <td>42.501575</td>\n",
       "      <td>64.688975</td>\n",
       "      <td>10.000000</td>\n",
       "      <td>0.000000</td>\n",
       "    </tr>\n",
       "    <tr>\n",
       "      <th>max</th>\n",
       "      <td>26382.000000</td>\n",
       "      <td>71.706900</td>\n",
       "      <td>174.886000</td>\n",
       "      <td>69176.000000</td>\n",
       "      <td>6820.000000</td>\n",
       "    </tr>\n",
       "  </tbody>\n",
       "</table>\n",
       "</div>"
      ],
      "text/plain": [
       "                 Id           Lat          Long  ConfirmedCases    Fatalities\n",
       "count  17892.000000  17892.000000  17892.000000    17892.000000  17892.000000\n",
       "mean   13191.500000     26.287693      4.766191      325.207523     11.974737\n",
       "std     7624.675152     22.935092     79.923261     3538.599684    174.346267\n",
       "min        1.000000    -41.454500   -157.498300        0.000000      0.000000\n",
       "25%     6596.250000     13.145425    -71.516375        0.000000      0.000000\n",
       "50%    13191.500000     32.985550      9.775000        0.000000      0.000000\n",
       "75%    19786.750000     42.501575     64.688975       10.000000      0.000000\n",
       "max    26382.000000     71.706900    174.886000    69176.000000   6820.000000"
      ]
     },
     "execution_count": 255,
     "metadata": {},
     "output_type": "execute_result"
    }
   ],
   "source": [
    "df.describe()"
   ]
  },
  {
   "cell_type": "code",
   "execution_count": 256,
   "metadata": {},
   "outputs": [
    {
     "data": {
      "text/plain": [
       "Text(0.5, 0, 'Date')"
      ]
     },
     "execution_count": 256,
     "metadata": {},
     "output_type": "execute_result"
    },
    {
     "data": {
      "image/png": "[encoded data removed]",
      "text/plain": [
       "<Figure size 1440x432 with 2 Axes>"
      ]
     },
     "metadata": {
      "needs_background": "light"
     },
     "output_type": "display_data"
    }
   ],
   "source": [
    "confirmed_dates = df.groupby(['Date']).agg({'ConfirmedCases':['sum']})\n",
    "fatalities_dates = df.groupby(['Date']).agg({'Fatalities':['sum']})\n",
    "total_dates = confirmed_dates.join(fatalities_dates)\n",
    "\n",
    "fig, (ax1, ax2) = plt.subplots(1, 2, figsize=(20,6))\n",
    "total_dates.plot(ax=ax1)\n",
    "ax1.set_title(\"Global confirmed cases\", size=13)\n",
    "ax1.set_ylabel(\"Number of cases\", size=13)\n",
    "ax1.set_xlabel(\"Date\", size=13)\n",
    "fatalities_dates.plot(ax=ax2, color='orange')\n",
    "ax2.set_title(\"Global deceased cases\", size=13)\n",
    "ax2.set_ylabel(\"Number of cases\", size=13)\n",
    "ax2.set_xlabel(\"Date\", size=13)"
   ]
  },
  {
   "cell_type": "code",
   "execution_count": 259,
   "metadata": {},
   "outputs": [
    {
     "data": {
      "text/plain": [
       "<matplotlib.axes._subplots.AxesSubplot at 0x7f2a16fc4290>"
      ]
     },
     "execution_count": 259,
     "metadata": {},
     "output_type": "execute_result"
    },
    {
     "data": {
      "image/png": "[encoded data removed]",
      "text/plain": [
       "<Figure size 432x288 with 1 Axes>"
      ]
     },
     "metadata": {
      "needs_background": "light"
     },
     "output_type": "display_data"
    }
   ],
   "source": [
    "confirmed_total_date_Italy = df[df['Country/Region']=='Italy'].groupby(['Date']).agg({'ConfirmedCases':['sum']})\n",
    "fatalities_total_date_Italy = df[df['Country/Region']=='Italy'].groupby(['Date']).agg({'Fatalities':['sum']})\n",
    "total_date_Italy = confirmed_total_date_Italy.join(fatalities_total_date_Italy)\n",
    "total_date_Italy.plot(ax=plt.gca(), title='Italy')"
   ]
  },
  {
   "cell_type": "code",
   "execution_count": 371,
   "metadata": {},
   "outputs": [],
   "source": [
    "# building datasets for every country\n",
    "# &(df['Lat'] == df[df['Country/Region'] == c].Lat.iloc[0])\n",
    "countries_data = {}\n",
    "for c in df['Country/Region'].unique():\n",
    "    countries_data[c]=df[(df['Country/Region'] == c)]\n",
    "    countries_data[c].insert(0, 'New_ID', countries_data[c].Id - countries_data[c].Id.iloc[0])"
   ]
  },
  {
   "cell_type": "code",
   "execution_count": 400,
   "metadata": {},
   "outputs": [
    {
     "data": {
      "text/html": [
       "<div>\n",
       "<style scoped>\n",
       "    .dataframe tbody tr th:only-of-type {\n",
       "        vertical-align: middle;\n",
       "    }\n",
       "\n",
       "    .dataframe tbody tr th {\n",
       "        vertical-align: top;\n",
       "    }\n",
       "\n",
       "    .dataframe thead th {\n",
       "        text-align: right;\n",
       "    }\n",
       "</style>\n",
       "<table border=\"1\" class=\"dataframe\">\n",
       "  <thead>\n",
       "    <tr style=\"text-align: right;\">\n",
       "      <th></th>\n",
       "      <th>New_ID</th>\n",
       "      <th>Id</th>\n",
       "      <th>Province/State</th>\n",
       "      <th>Country/Region</th>\n",
       "      <th>Lat</th>\n",
       "      <th>Long</th>\n",
       "      <th>Date</th>\n",
       "      <th>ConfirmedCases</th>\n",
       "      <th>Fatalities</th>\n",
       "    </tr>\n",
       "  </thead>\n",
       "  <tbody>\n",
       "    <tr>\n",
       "      <th>2961</th>\n",
       "      <td>0</td>\n",
       "      <td>4372</td>\n",
       "      <td>Anhui</td>\n",
       "      <td>China</td>\n",
       "      <td>31.8257</td>\n",
       "      <td>117.2264</td>\n",
       "      <td>2020-01-22</td>\n",
       "      <td>1.0</td>\n",
       "      <td>0.0</td>\n",
       "    </tr>\n",
       "    <tr>\n",
       "      <th>2962</th>\n",
       "      <td>1</td>\n",
       "      <td>4373</td>\n",
       "      <td>Anhui</td>\n",
       "      <td>China</td>\n",
       "      <td>31.8257</td>\n",
       "      <td>117.2264</td>\n",
       "      <td>2020-01-23</td>\n",
       "      <td>9.0</td>\n",
       "      <td>0.0</td>\n",
       "    </tr>\n",
       "    <tr>\n",
       "      <th>2963</th>\n",
       "      <td>2</td>\n",
       "      <td>4374</td>\n",
       "      <td>Anhui</td>\n",
       "      <td>China</td>\n",
       "      <td>31.8257</td>\n",
       "      <td>117.2264</td>\n",
       "      <td>2020-01-24</td>\n",
       "      <td>15.0</td>\n",
       "      <td>0.0</td>\n",
       "    </tr>\n",
       "    <tr>\n",
       "      <th>2964</th>\n",
       "      <td>3</td>\n",
       "      <td>4375</td>\n",
       "      <td>Anhui</td>\n",
       "      <td>China</td>\n",
       "      <td>31.8257</td>\n",
       "      <td>117.2264</td>\n",
       "      <td>2020-01-25</td>\n",
       "      <td>39.0</td>\n",
       "      <td>0.0</td>\n",
       "    </tr>\n",
       "    <tr>\n",
       "      <th>2965</th>\n",
       "      <td>4</td>\n",
       "      <td>4376</td>\n",
       "      <td>Anhui</td>\n",
       "      <td>China</td>\n",
       "      <td>31.8257</td>\n",
       "      <td>117.2264</td>\n",
       "      <td>2020-01-26</td>\n",
       "      <td>60.0</td>\n",
       "      <td>0.0</td>\n",
       "    </tr>\n",
       "    <tr>\n",
       "      <th>...</th>\n",
       "      <td>...</td>\n",
       "      <td>...</td>\n",
       "      <td>...</td>\n",
       "      <td>...</td>\n",
       "      <td>...</td>\n",
       "      <td>...</td>\n",
       "      <td>...</td>\n",
       "      <td>...</td>\n",
       "      <td>...</td>\n",
       "    </tr>\n",
       "    <tr>\n",
       "      <th>5035</th>\n",
       "      <td>3034</td>\n",
       "      <td>7406</td>\n",
       "      <td>Zhejiang</td>\n",
       "      <td>China</td>\n",
       "      <td>29.1832</td>\n",
       "      <td>120.0934</td>\n",
       "      <td>2020-03-20</td>\n",
       "      <td>1234.0</td>\n",
       "      <td>1.0</td>\n",
       "    </tr>\n",
       "    <tr>\n",
       "      <th>5036</th>\n",
       "      <td>3035</td>\n",
       "      <td>7407</td>\n",
       "      <td>Zhejiang</td>\n",
       "      <td>China</td>\n",
       "      <td>29.1832</td>\n",
       "      <td>120.0934</td>\n",
       "      <td>2020-03-21</td>\n",
       "      <td>1236.0</td>\n",
       "      <td>1.0</td>\n",
       "    </tr>\n",
       "    <tr>\n",
       "      <th>5037</th>\n",
       "      <td>3036</td>\n",
       "      <td>7408</td>\n",
       "      <td>Zhejiang</td>\n",
       "      <td>China</td>\n",
       "      <td>29.1832</td>\n",
       "      <td>120.0934</td>\n",
       "      <td>2020-03-22</td>\n",
       "      <td>1237.0</td>\n",
       "      <td>1.0</td>\n",
       "    </tr>\n",
       "    <tr>\n",
       "      <th>5038</th>\n",
       "      <td>3037</td>\n",
       "      <td>7409</td>\n",
       "      <td>Zhejiang</td>\n",
       "      <td>China</td>\n",
       "      <td>29.1832</td>\n",
       "      <td>120.0934</td>\n",
       "      <td>2020-03-23</td>\n",
       "      <td>1238.0</td>\n",
       "      <td>1.0</td>\n",
       "    </tr>\n",
       "    <tr>\n",
       "      <th>5039</th>\n",
       "      <td>3038</td>\n",
       "      <td>7410</td>\n",
       "      <td>Zhejiang</td>\n",
       "      <td>China</td>\n",
       "      <td>29.1832</td>\n",
       "      <td>120.0934</td>\n",
       "      <td>2020-03-24</td>\n",
       "      <td>1240.0</td>\n",
       "      <td>1.0</td>\n",
       "    </tr>\n",
       "  </tbody>\n",
       "</table>\n",
       "<p>2079 rows × 9 columns</p>\n",
       "</div>"
      ],
      "text/plain": [
       "      New_ID    Id Province/State Country/Region      Lat      Long  \\\n",
       "2961       0  4372          Anhui          China  31.8257  117.2264   \n",
       "2962       1  4373          Anhui          China  31.8257  117.2264   \n",
       "2963       2  4374          Anhui          China  31.8257  117.2264   \n",
       "2964       3  4375          Anhui          China  31.8257  117.2264   \n",
       "2965       4  4376          Anhui          China  31.8257  117.2264   \n",
       "...      ...   ...            ...            ...      ...       ...   \n",
       "5035    3034  7406       Zhejiang          China  29.1832  120.0934   \n",
       "5036    3035  7407       Zhejiang          China  29.1832  120.0934   \n",
       "5037    3036  7408       Zhejiang          China  29.1832  120.0934   \n",
       "5038    3037  7409       Zhejiang          China  29.1832  120.0934   \n",
       "5039    3038  7410       Zhejiang          China  29.1832  120.0934   \n",
       "\n",
       "            Date  ConfirmedCases  Fatalities  \n",
       "2961  2020-01-22             1.0         0.0  \n",
       "2962  2020-01-23             9.0         0.0  \n",
       "2963  2020-01-24            15.0         0.0  \n",
       "2964  2020-01-25            39.0         0.0  \n",
       "2965  2020-01-26            60.0         0.0  \n",
       "...          ...             ...         ...  \n",
       "5035  2020-03-20          1234.0         1.0  \n",
       "5036  2020-03-21          1236.0         1.0  \n",
       "5037  2020-03-22          1237.0         1.0  \n",
       "5038  2020-03-23          1238.0         1.0  \n",
       "5039  2020-03-24          1240.0         1.0  \n",
       "\n",
       "[2079 rows x 9 columns]"
      ]
     },
     "execution_count": 400,
     "metadata": {},
     "output_type": "execute_result"
    }
   ],
   "source": [
    "countries_data['China']"
   ]
  },
  {
   "cell_type": "code",
   "execution_count": 409,
   "metadata": {},
   "outputs": [
    {
     "name": "stderr",
     "output_type": "stream",
     "text": [
      "/home/magneto/anaconda3/lib/python3.7/site-packages/pandas/core/generic.py:5303: SettingWithCopyWarning: \n",
      "A value is trying to be set on a copy of a slice from a DataFrame.\n",
      "Try using .loc[row_indexer,col_indexer] = value instead\n",
      "\n",
      "See the caveats in the documentation: https://pandas.pydata.org/pandas-docs/stable/user_guide/indexing.html#returning-a-view-versus-a-copy\n",
      "  self[name] = value\n"
     ]
    },
    {
     "data": {
      "text/html": [
       "<div>\n",
       "<style scoped>\n",
       "    .dataframe tbody tr th:only-of-type {\n",
       "        vertical-align: middle;\n",
       "    }\n",
       "\n",
       "    .dataframe tbody tr th {\n",
       "        vertical-align: top;\n",
       "    }\n",
       "\n",
       "    .dataframe thead th {\n",
       "        text-align: right;\n",
       "    }\n",
       "</style>\n",
       "<table border=\"1\" class=\"dataframe\">\n",
       "  <thead>\n",
       "    <tr style=\"text-align: right;\">\n",
       "      <th></th>\n",
       "      <th>New_ID</th>\n",
       "      <th>Id</th>\n",
       "      <th>Province/State</th>\n",
       "      <th>Country/Region</th>\n",
       "      <th>Lat</th>\n",
       "      <th>Long</th>\n",
       "      <th>Date</th>\n",
       "      <th>ConfirmedCases</th>\n",
       "      <th>Fatalities</th>\n",
       "    </tr>\n",
       "  </thead>\n",
       "  <tbody>\n",
       "    <tr>\n",
       "      <th>4977</th>\n",
       "      <td>0</td>\n",
       "      <td>7348</td>\n",
       "      <td>Zhejiang</td>\n",
       "      <td>China</td>\n",
       "      <td>29.1832</td>\n",
       "      <td>120.0934</td>\n",
       "      <td>2020-01-22</td>\n",
       "      <td>10.0</td>\n",
       "      <td>0.0</td>\n",
       "    </tr>\n",
       "    <tr>\n",
       "      <th>4978</th>\n",
       "      <td>1</td>\n",
       "      <td>7349</td>\n",
       "      <td>Zhejiang</td>\n",
       "      <td>China</td>\n",
       "      <td>29.1832</td>\n",
       "      <td>120.0934</td>\n",
       "      <td>2020-01-23</td>\n",
       "      <td>27.0</td>\n",
       "      <td>0.0</td>\n",
       "    </tr>\n",
       "    <tr>\n",
       "      <th>4979</th>\n",
       "      <td>2</td>\n",
       "      <td>7350</td>\n",
       "      <td>Zhejiang</td>\n",
       "      <td>China</td>\n",
       "      <td>29.1832</td>\n",
       "      <td>120.0934</td>\n",
       "      <td>2020-01-24</td>\n",
       "      <td>43.0</td>\n",
       "      <td>0.0</td>\n",
       "    </tr>\n",
       "    <tr>\n",
       "      <th>4980</th>\n",
       "      <td>3</td>\n",
       "      <td>7351</td>\n",
       "      <td>Zhejiang</td>\n",
       "      <td>China</td>\n",
       "      <td>29.1832</td>\n",
       "      <td>120.0934</td>\n",
       "      <td>2020-01-25</td>\n",
       "      <td>62.0</td>\n",
       "      <td>0.0</td>\n",
       "    </tr>\n",
       "    <tr>\n",
       "      <th>4981</th>\n",
       "      <td>4</td>\n",
       "      <td>7352</td>\n",
       "      <td>Zhejiang</td>\n",
       "      <td>China</td>\n",
       "      <td>29.1832</td>\n",
       "      <td>120.0934</td>\n",
       "      <td>2020-01-26</td>\n",
       "      <td>104.0</td>\n",
       "      <td>0.0</td>\n",
       "    </tr>\n",
       "    <tr>\n",
       "      <th>...</th>\n",
       "      <td>...</td>\n",
       "      <td>...</td>\n",
       "      <td>...</td>\n",
       "      <td>...</td>\n",
       "      <td>...</td>\n",
       "      <td>...</td>\n",
       "      <td>...</td>\n",
       "      <td>...</td>\n",
       "      <td>...</td>\n",
       "    </tr>\n",
       "    <tr>\n",
       "      <th>5035</th>\n",
       "      <td>58</td>\n",
       "      <td>7406</td>\n",
       "      <td>Zhejiang</td>\n",
       "      <td>China</td>\n",
       "      <td>29.1832</td>\n",
       "      <td>120.0934</td>\n",
       "      <td>2020-03-20</td>\n",
       "      <td>1234.0</td>\n",
       "      <td>1.0</td>\n",
       "    </tr>\n",
       "    <tr>\n",
       "      <th>5036</th>\n",
       "      <td>59</td>\n",
       "      <td>7407</td>\n",
       "      <td>Zhejiang</td>\n",
       "      <td>China</td>\n",
       "      <td>29.1832</td>\n",
       "      <td>120.0934</td>\n",
       "      <td>2020-03-21</td>\n",
       "      <td>1236.0</td>\n",
       "      <td>1.0</td>\n",
       "    </tr>\n",
       "    <tr>\n",
       "      <th>5037</th>\n",
       "      <td>60</td>\n",
       "      <td>7408</td>\n",
       "      <td>Zhejiang</td>\n",
       "      <td>China</td>\n",
       "      <td>29.1832</td>\n",
       "      <td>120.0934</td>\n",
       "      <td>2020-03-22</td>\n",
       "      <td>1237.0</td>\n",
       "      <td>1.0</td>\n",
       "    </tr>\n",
       "    <tr>\n",
       "      <th>5038</th>\n",
       "      <td>61</td>\n",
       "      <td>7409</td>\n",
       "      <td>Zhejiang</td>\n",
       "      <td>China</td>\n",
       "      <td>29.1832</td>\n",
       "      <td>120.0934</td>\n",
       "      <td>2020-03-23</td>\n",
       "      <td>1238.0</td>\n",
       "      <td>1.0</td>\n",
       "    </tr>\n",
       "    <tr>\n",
       "      <th>5039</th>\n",
       "      <td>62</td>\n",
       "      <td>7410</td>\n",
       "      <td>Zhejiang</td>\n",
       "      <td>China</td>\n",
       "      <td>29.1832</td>\n",
       "      <td>120.0934</td>\n",
       "      <td>2020-03-24</td>\n",
       "      <td>1240.0</td>\n",
       "      <td>1.0</td>\n",
       "    </tr>\n",
       "  </tbody>\n",
       "</table>\n",
       "<p>63 rows × 9 columns</p>\n",
       "</div>"
      ],
      "text/plain": [
       "      New_ID    Id Province/State Country/Region      Lat      Long  \\\n",
       "4977       0  7348       Zhejiang          China  29.1832  120.0934   \n",
       "4978       1  7349       Zhejiang          China  29.1832  120.0934   \n",
       "4979       2  7350       Zhejiang          China  29.1832  120.0934   \n",
       "4980       3  7351       Zhejiang          China  29.1832  120.0934   \n",
       "4981       4  7352       Zhejiang          China  29.1832  120.0934   \n",
       "...      ...   ...            ...            ...      ...       ...   \n",
       "5035      58  7406       Zhejiang          China  29.1832  120.0934   \n",
       "5036      59  7407       Zhejiang          China  29.1832  120.0934   \n",
       "5037      60  7408       Zhejiang          China  29.1832  120.0934   \n",
       "5038      61  7409       Zhejiang          China  29.1832  120.0934   \n",
       "5039      62  7410       Zhejiang          China  29.1832  120.0934   \n",
       "\n",
       "            Date  ConfirmedCases  Fatalities  \n",
       "4977  2020-01-22            10.0         0.0  \n",
       "4978  2020-01-23            27.0         0.0  \n",
       "4979  2020-01-24            43.0         0.0  \n",
       "4980  2020-01-25            62.0         0.0  \n",
       "4981  2020-01-26           104.0         0.0  \n",
       "...          ...             ...         ...  \n",
       "5035  2020-03-20          1234.0         1.0  \n",
       "5036  2020-03-21          1236.0         1.0  \n",
       "5037  2020-03-22          1237.0         1.0  \n",
       "5038  2020-03-23          1238.0         1.0  \n",
       "5039  2020-03-24          1240.0         1.0  \n",
       "\n",
       "[63 rows x 9 columns]"
      ]
     },
     "execution_count": 409,
     "metadata": {},
     "output_type": "execute_result"
    }
   ],
   "source": [
    "# applying polynomial regression\n",
    "x = countries_data['China']\n",
    "x = x[(x.Lat == 29.1832) & (x.Long == 120.0934)]\n",
    "x.New_ID = x.New_ID - x.New_ID.iloc[0]\n",
    "x"
   ]
  },
  {
   "cell_type": "code",
   "execution_count": 410,
   "metadata": {},
   "outputs": [],
   "source": [
    "def build_model(c, lat, long, target):\n",
    "\n",
    "    data = countries_data[c]\n",
    "    data = data[(data.Lat == lat) & (data.Long == long)]\n",
    "    data.New_ID = data.New_ID - data.New_ID.iloc[0]\n",
    "    #X = np.array(countries_data[c]['New_ID']).reshape(-1, 1)\n",
    "    #y = np.array(countries_data[c][target])\n",
    "    X = np.array(data['New_ID']).reshape(-1, 1)\n",
    "    y = np.array(data[target])\n",
    "    X_train, X_test, y_train, y_test = train_test_split(X, y, test_size=0.2)\n",
    "    scores = []\n",
    "\n",
    "    for i in range(1, 11):\n",
    "        print(\"Euation of \"+str(i)+\" Degree BEGINS\")\n",
    "        poly = PolynomialFeatures(degree=i)\n",
    "        poly_x = poly.fit_transform(X_train)\n",
    "        pol_reg = LinearRegression()\n",
    "        pol_reg.fit(poly_x, y_train)\n",
    "        print(\"Euation of \"+str(i)+\" Degree Ends with acc = \"+str(pol_reg.score(poly.fit_transform(X_test), y_test)*100) + \"%\")\n",
    "        scores.append(pol_reg.score(poly.fit_transform(X_test), y_test))\n",
    "    \n",
    "    fig, (ax1, ax2) = plt.subplots(1, 2, figsize=(20,6))\n",
    "    ax1.plot(X, y)\n",
    "    ax1.set_title(c + \" confirmed cases\", size=13)\n",
    "    ax1.set_ylabel(\"Number of cases\", size=13)\n",
    "    ax1.set_xlabel(\"Date_ID\", size=13)\n",
    "    ax2.plot(range(1, 11), scores, color='orange')\n",
    "    ax2.set_title(\"Accuracy vs. Degree\", size=13)\n",
    "    ax2.set_ylabel(\"Accuracy\", size=13)\n",
    "    ax2.set_xlabel(\"Degree\", size=13)\n",
    "    \n",
    "    # finding best degree for each country\n",
    "    max_ = 0\n",
    "    max_i = 0\n",
    "    for index, acc in enumerate(scores):\n",
    "        if acc > max_:\n",
    "            max_ = acc\n",
    "            max_i = index\n",
    "    print(\"Best PolynomialDegree is \" + str(max_i+1) + \" with accuracy \" + str(max_*100) + \"%\")\n",
    "    return max_i + 1"
   ]
  },
  {
   "cell_type": "code",
   "execution_count": 412,
   "metadata": {},
   "outputs": [
    {
     "name": "stdout",
     "output_type": "stream",
     "text": [
      "Euation of 1 Degree BEGINS\n",
      "Euation of 1 Degree Ends with acc = 17.601380175629078%\n",
      "Euation of 2 Degree BEGINS\n",
      "Euation of 2 Degree Ends with acc = 48.19527200485313%\n",
      "Euation of 3 Degree BEGINS\n",
      "Euation of 3 Degree Ends with acc = 74.59380003885596%\n",
      "Euation of 4 Degree BEGINS\n",
      "Euation of 4 Degree Ends with acc = 91.1644646228905%\n",
      "Euation of 5 Degree BEGINS\n",
      "Euation of 5 Degree Ends with acc = 97.81307679754607%\n",
      "Euation of 6 Degree BEGINS\n",
      "Euation of 6 Degree Ends with acc = 99.59041836384294%\n",
      "Euation of 7 Degree BEGINS\n",
      "Euation of 7 Degree Ends with acc = 99.63452376507084%\n",
      "Euation of 8 Degree BEGINS\n",
      "Euation of 8 Degree Ends with acc = 98.66229417006647%\n",
      "Euation of 9 Degree BEGINS\n",
      "Euation of 9 Degree Ends with acc = 96.17639723875546%\n",
      "Euation of 10 Degree BEGINS\n",
      "Euation of 10 Degree Ends with acc = 94.2039119503486%\n",
      "Best PolynomialDegree is 7 with accuracy 99.63452376507084%\n"
     ]
    },
    {
     "name": "stderr",
     "output_type": "stream",
     "text": [
      "/home/magneto/anaconda3/lib/python3.7/site-packages/pandas/core/generic.py:5303: SettingWithCopyWarning: \n",
      "A value is trying to be set on a copy of a slice from a DataFrame.\n",
      "Try using .loc[row_indexer,col_indexer] = value instead\n",
      "\n",
      "See the caveats in the documentation: https://pandas.pydata.org/pandas-docs/stable/user_guide/indexing.html#returning-a-view-versus-a-copy\n",
      "  self[name] = value\n"
     ]
    },
    {
     "data": {
      "text/plain": [
       "7"
      ]
     },
     "execution_count": 412,
     "metadata": {},
     "output_type": "execute_result"
    },
    {
     "data": {
      "image/png": "[encoded data removed]",
      "text/plain": [
       "<Figure size 1440x432 with 2 Axes>"
      ]
     },
     "metadata": {
      "needs_background": "light"
     },
     "output_type": "display_data"
    }
   ],
   "source": [
    "build_model('US',32.3182, -86.9023, 'ConfirmedCases') # for USA"
   ]
  },
  {
   "cell_type": "code",
   "execution_count": 411,
   "metadata": {},
   "outputs": [
    {
     "name": "stdout",
     "output_type": "stream",
     "text": [
      "Euation of 1 Degree BEGINS\n",
      "Euation of 1 Degree Ends with acc = 61.82276248861789%\n",
      "Euation of 2 Degree BEGINS\n",
      "Euation of 2 Degree Ends with acc = 93.37571849769769%\n",
      "Euation of 3 Degree BEGINS\n",
      "Euation of 3 Degree Ends with acc = 96.90238267639398%\n",
      "Euation of 4 Degree BEGINS\n",
      "Euation of 4 Degree Ends with acc = 97.1389072124204%\n",
      "Euation of 5 Degree BEGINS\n",
      "Euation of 5 Degree Ends with acc = 99.56642916838554%\n",
      "Euation of 6 Degree BEGINS\n",
      "Euation of 6 Degree Ends with acc = 99.69010940138236%\n",
      "Euation of 7 Degree BEGINS\n",
      "Euation of 7 Degree Ends with acc = 99.80162621462463%\n",
      "Euation of 8 Degree BEGINS\n",
      "Euation of 8 Degree Ends with acc = 99.93647589112919%\n",
      "Euation of 9 Degree BEGINS\n",
      "Euation of 9 Degree Ends with acc = 99.91615096566865%\n",
      "Euation of 10 Degree BEGINS\n",
      "Euation of 10 Degree Ends with acc = 99.87487895350668%\n",
      "Best PolynomialDegree is 8 with accuracy 99.93647589112919%\n"
     ]
    },
    {
     "name": "stderr",
     "output_type": "stream",
     "text": [
      "/home/magneto/anaconda3/lib/python3.7/site-packages/pandas/core/generic.py:5303: SettingWithCopyWarning: \n",
      "A value is trying to be set on a copy of a slice from a DataFrame.\n",
      "Try using .loc[row_indexer,col_indexer] = value instead\n",
      "\n",
      "See the caveats in the documentation: https://pandas.pydata.org/pandas-docs/stable/user_guide/indexing.html#returning-a-view-versus-a-copy\n",
      "  self[name] = value\n"
     ]
    },
    {
     "data": {
      "text/plain": [
       "8"
      ]
     },
     "execution_count": 411,
     "metadata": {},
     "output_type": "execute_result"
    },
    {
     "data": {
      "image/png": "[encoded data removed]",
      "text/plain": [
       "<Figure size 1440x432 with 2 Axes>"
      ]
     },
     "metadata": {
      "needs_background": "light"
     },
     "output_type": "display_data"
    }
   ],
   "source": [
    "build_model('China', 31.8257 ,117.2264, 'ConfirmedCases') # for France"
   ]
  },
  {
   "cell_type": "code",
   "execution_count": 413,
   "metadata": {},
   "outputs": [
    {
     "name": "stdout",
     "output_type": "stream",
     "text": [
      "Euation of 1 Degree BEGINS\n",
      "Euation of 1 Degree Ends with acc = -27.540138474981934%\n",
      "Euation of 2 Degree BEGINS\n",
      "Euation of 2 Degree Ends with acc = 67.27698033812088%\n",
      "Euation of 3 Degree BEGINS\n",
      "Euation of 3 Degree Ends with acc = 81.69435981016076%\n",
      "Euation of 4 Degree BEGINS\n",
      "Euation of 4 Degree Ends with acc = 98.89306510505241%\n",
      "Euation of 5 Degree BEGINS\n",
      "Euation of 5 Degree Ends with acc = 99.90232650840089%\n",
      "Euation of 6 Degree BEGINS\n",
      "Euation of 6 Degree Ends with acc = 99.90683854895688%\n",
      "Euation of 7 Degree BEGINS\n",
      "Euation of 7 Degree Ends with acc = 99.97871388864853%\n",
      "Euation of 8 Degree BEGINS\n",
      "Euation of 8 Degree Ends with acc = 99.9896923277255%\n",
      "Euation of 9 Degree BEGINS\n",
      "Euation of 9 Degree Ends with acc = 99.9885889864678%\n",
      "Euation of 10 Degree BEGINS\n",
      "Euation of 10 Degree Ends with acc = 99.98706773815525%\n",
      "Best PolynomialDegree is 8 with accuracy 99.9896923277255%\n"
     ]
    },
    {
     "data": {
      "text/plain": [
       "8"
      ]
     },
     "execution_count": 413,
     "metadata": {},
     "output_type": "execute_result"
    },
    {
     "data": {
      "image/png": "[encoded data removed]",
      "text/plain": [
       "<Figure size 1440x432 with 2 Axes>"
      ]
     },
     "metadata": {
      "needs_background": "light"
     },
     "output_type": "display_data"
    }
   ],
   "source": [
    "build_model('Italy',43,12, 'Fatalities') # for Egypt"
   ]
  },
  {
   "cell_type": "code",
   "execution_count": null,
   "metadata": {},
   "outputs": [],
   "source": []
  },
  {
   "cell_type": "code",
   "execution_count": null,
   "metadata": {},
   "outputs": [],
   "source": [
    "Poly = PolynomialFeatures(degree=i)\n",
    "poly_x = poly.fit_transform(X_train)\n",
    "pol_reg = LinearRegression()\n",
    "pol_reg.fit(poly_x, y_train)\n"
   ]
  }
 ],
 "metadata": {
  "kernelspec": {
   "display_name": "Python 3",
   "language": "python",
   "name": "python3"
  },
  "language_info": {
   "codemirror_mode": {
    "name": "ipython",
    "version": 3
   },
   "file_extension": ".py",
   "mimetype": "text/x-python",
   "name": "python",
   "nbconvert_exporter": "python",
   "pygments_lexer": "ipython3",
   "version": "3.7.6"
  }
 },
 "nbformat": 4,
 "nbformat_minor": 4
}
