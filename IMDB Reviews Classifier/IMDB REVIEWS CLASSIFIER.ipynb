{
 "cells": [
  {
   "cell_type": "code",
   "execution_count": 62,
   "metadata": {},
   "outputs": [],
   "source": [
    "from tkinter import *\n",
    "import tkinter.messagebox\n",
    "import tensorflow as tf\n",
    "import matplotlib.pyplot as plt\n",
    "import numpy as np\n",
    "import tensorflow_datasets as tfds \n",
    "from tensorflow.keras.preprocessing.text import Tokenizer\n",
    "from tensorflow.keras.preprocessing.sequence import pad_sequences"
   ]
  },
  {
   "cell_type": "code",
   "execution_count": 2,
   "metadata": {},
   "outputs": [],
   "source": [
    "imdb, info = tfds.load('imdb_reviews', with_info=True, as_supervised=True)"
   ]
  },
  {
   "cell_type": "code",
   "execution_count": 3,
   "metadata": {},
   "outputs": [],
   "source": [
    "train_data, test_data = imdb['train'], imdb['test']\n",
    "train_sentenses = []\n",
    "train_labels = []\n",
    "test_sentenses = []\n",
    "test_labels = []\n",
    "for s,l in train_data:\n",
    "    train_sentenses.append(str(s.numpy()))\n",
    "    train_labels.append(l.numpy())\n",
    "for s,l in test_data:\n",
    "    test_sentenses.append(str(s.numpy()))\n",
    "    test_labels.append(l.numpy())"
   ]
  },
  {
   "cell_type": "code",
   "execution_count": 4,
   "metadata": {},
   "outputs": [],
   "source": [
    "tokenizer = Tokenizer(num_words=10000, oov_token=\"<OOV>\")\n",
    "tokenizer.fit_on_texts(train_sentenses)\n",
    "word_index = tokenizer.word_index\n",
    "\n",
    "train_seq = tokenizer.texts_to_sequences(train_sentenses)\n",
    "pad_train = pad_sequences(train_seq, maxlen=120, truncating='post')\n",
    "\n",
    "test_seq = tokenizer.texts_to_sequences(test_sentenses)\n",
    "pad_test = pad_sequences(test_seq, maxlen=120, truncating='post')"
   ]
  },
  {
   "cell_type": "code",
   "execution_count": 26,
   "metadata": {},
   "outputs": [],
   "source": [
    "model = tf.keras.Sequential([\n",
    "    tf.keras.layers.Embedding(10000, 64, input_length=120), \n",
    "    tf.keras.layers.Bidirectional(tf.keras.layers.LSTM(64, return_sequences=True)),\n",
    "    tf.keras.layers.Bidirectional(tf.keras.layers.LSTM(32)),\n",
    "    tf.keras.layers.Dense(64, activation='relu'), \n",
    "    tf.keras.layers.Dense(1, activation='sigmoid')\n",
    "])"
   ]
  },
  {
   "cell_type": "code",
   "execution_count": 27,
   "metadata": {},
   "outputs": [
    {
     "name": "stdout",
     "output_type": "stream",
     "text": [
      "Model: \"sequential_3\"\n",
      "_________________________________________________________________\n",
      "Layer (type)                 Output Shape              Param #   \n",
      "=================================================================\n",
      "embedding_6 (Embedding)      (None, 120, 64)           640000    \n",
      "_________________________________________________________________\n",
      "bidirectional_1 (Bidirection (None, 120, 128)          66048     \n",
      "_________________________________________________________________\n",
      "bidirectional_2 (Bidirection (None, 64)                41216     \n",
      "_________________________________________________________________\n",
      "dense_6 (Dense)              (None, 64)                4160      \n",
      "_________________________________________________________________\n",
      "dense_7 (Dense)              (None, 1)                 65        \n",
      "=================================================================\n",
      "Total params: 751,489\n",
      "Trainable params: 751,489\n",
      "Non-trainable params: 0\n",
      "_________________________________________________________________\n"
     ]
    }
   ],
   "source": [
    "model.summary()"
   ]
  },
  {
   "cell_type": "code",
   "execution_count": 28,
   "metadata": {},
   "outputs": [],
   "source": [
    "model.compile(optimizer='adam', loss='binary_crossentropy', metrics=['accuracy'])"
   ]
  },
  {
   "cell_type": "code",
   "execution_count": 29,
   "metadata": {},
   "outputs": [
    {
     "name": "stdout",
     "output_type": "stream",
     "text": [
      "Train on 25000 samples, validate on 25000 samples\n",
      "Epoch 1/10\n",
      "25000/25000 - 116s - loss: 0.4575 - accuracy: 0.7750 - val_loss: 0.3894 - val_accuracy: 0.8245\n",
      "Epoch 2/10\n",
      "25000/25000 - 111s - loss: 0.2832 - accuracy: 0.8852 - val_loss: 0.4217 - val_accuracy: 0.8148\n",
      "Epoch 3/10\n",
      "25000/25000 - 111s - loss: 0.1903 - accuracy: 0.9264 - val_loss: 0.4600 - val_accuracy: 0.8162\n",
      "Epoch 4/10\n",
      "25000/25000 - 111s - loss: 0.1143 - accuracy: 0.9589 - val_loss: 0.6177 - val_accuracy: 0.7862\n",
      "Epoch 5/10\n",
      "25000/25000 - 110s - loss: 0.0663 - accuracy: 0.9770 - val_loss: 0.7312 - val_accuracy: 0.7935\n",
      "Epoch 6/10\n",
      "25000/25000 - 105s - loss: 0.0490 - accuracy: 0.9825 - val_loss: 0.8290 - val_accuracy: 0.7960\n",
      "Epoch 7/10\n",
      "25000/25000 - 108s - loss: 0.0282 - accuracy: 0.9908 - val_loss: 0.9911 - val_accuracy: 0.8015\n",
      "Epoch 8/10\n",
      "25000/25000 - 103s - loss: 0.0224 - accuracy: 0.9924 - val_loss: 1.0940 - val_accuracy: 0.7920\n",
      "Epoch 9/10\n",
      "25000/25000 - 101s - loss: 0.0180 - accuracy: 0.9945 - val_loss: 1.0993 - val_accuracy: 0.7981\n",
      "Epoch 10/10\n",
      "25000/25000 - 102s - loss: 0.0211 - accuracy: 0.9930 - val_loss: 1.1353 - val_accuracy: 0.7881\n"
     ]
    }
   ],
   "source": [
    "history = model.fit(pad_train, np.array(train_labels), epochs=10,\n",
    "          validation_data=(pad_test, np.array(test_labels)), verbose=2)"
   ]
  },
  {
   "cell_type": "code",
   "execution_count": 30,
   "metadata": {},
   "outputs": [
    {
     "name": "stdout",
     "output_type": "stream",
     "text": [
      "(10000, 64)\n"
     ]
    }
   ],
   "source": [
    "# visualizing Embeddings\n",
    "e = model.layers[0]\n",
    "weights = e.get_weights()[0]\n",
    "print(weights.shape)\n",
    "\n",
    "reversed_word_index = dict([(v, k) for k, v in word_index.items()])"
   ]
  },
  {
   "cell_type": "code",
   "execution_count": 12,
   "metadata": {},
   "outputs": [],
   "source": [
    "out_v = open('vecs.tsv', 'w', encoding='utf-8')\n",
    "out_m = open('meta.tsv', 'w', encoding='utf-8')\n",
    "for word_num in range(1, 10000):\n",
    "    word = reversed_word_index[word_num]\n",
    "    embeddings = weights[word_num]\n",
    "    out_m.write(word + '\\n')\n",
    "    out_v.write('/t'.join([str(x) for x in embeddings]) + '\\n')\n",
    "out_v.close()\n",
    "out_m.close()"
   ]
  },
  {
   "cell_type": "code",
   "execution_count": 31,
   "metadata": {},
   "outputs": [],
   "source": [
    "def plot_graph(history, string):\n",
    "    plt.plot(history.history[string])\n",
    "    plt.plot(history.history['val_' + string])\n",
    "    plt.xlabel('Epochs')\n",
    "    plt.ylabel(string)\n",
    "    plt.legend([string, 'val_' + string])\n",
    "    plt.show()"
   ]
  },
  {
   "cell_type": "code",
   "execution_count": 32,
   "metadata": {},
   "outputs": [
    {
     "data": {
      "image/png": "[encoded data removed]",
      "text/plain": [
       "<Figure size 432x288 with 1 Axes>"
      ]
     },
     "metadata": {
      "needs_background": "light"
     },
     "output_type": "display_data"
    }
   ],
   "source": [
    "plot_graph(history, \"accuracy\")"
   ]
  },
  {
   "cell_type": "code",
   "execution_count": 33,
   "metadata": {},
   "outputs": [
    {
     "data": {
      "image/png": "[encoded data removed]",
      "text/plain": [
       "<Figure size 432x288 with 1 Axes>"
      ]
     },
     "metadata": {
      "needs_background": "light"
     },
     "output_type": "display_data"
    }
   ],
   "source": [
    "plot_graph(history, \"loss\")"
   ]
  },
  {
   "cell_type": "code",
   "execution_count": 44,
   "metadata": {},
   "outputs": [],
   "source": [
    "def predict_review(review):\n",
    "    rev_seq = tokenizer.texts_to_sequences(review)\n",
    "    pad_rev = pad_sequences(rev_seq, maxlen=120, truncating='post')\n",
    "    return model.predict(pad_rev)"
   ]
  },
  {
   "cell_type": "code",
   "execution_count": 47,
   "metadata": {},
   "outputs": [
    {
     "data": {
      "text/plain": [
       "array([[0.07938261]], dtype=float32)"
      ]
     },
     "execution_count": 47,
     "metadata": {},
     "output_type": "execute_result"
    }
   ],
   "source": [
    "def run_gui():\n",
    "    "
   ]
  },
  {
   "cell_type": "code",
   "execution_count": 94,
   "metadata": {},
   "outputs": [],
   "source": [
    "class ReviewClassifier(object):\n",
    "    def __init__(self):\n",
    "\n",
    "        self.root = Tk()\n",
    "        self.root.title(\"IMDB REVIEW CLASSIFIER\")\n",
    "        self.root.config(background='black')\n",
    "        self.root.maxsize(600, 400)\n",
    "        self.root.minsize(600, 400)\n",
    "        self.menu_bar = Menu(self.root)\n",
    "        self.file_menu = Menu(self.menu_bar, tearoff=0)\n",
    "        self.file_menu.add_command(label=\"New\", command=ReviewClassifier)\n",
    "        self.file_menu.add_separator()\n",
    "        self.file_menu.add_command(label=\"Exit\", command=self.root.destroy)\n",
    "        self.menu_bar.add_cascade(label=\"File\", menu=self.file_menu)\n",
    "        self.help_menu = Menu(self.menu_bar, tearoff=0)\n",
    "        self.help_menu.add_command(label=\"About\", command=self.about)\n",
    "        self.menu_bar.add_cascade(label=\"Help\", menu=self.help_menu)\n",
    "        self.root.config(menu=self.menu_bar)\n",
    "\n",
    "        self.welcome_label_1 = Label(self.root, fg=\"dark red\", text=\"Welcome to\", bg='black')\n",
    "        self.welcome_label_1.config(font=(\"Courier\", 44))\n",
    "        self.welcome_label_1.pack(padx=5, pady=5)\n",
    "        self.welcome_label_2 = Label(self.root, fg=\"black\", text=\"IMDB REVIWER\", bg='orange')\n",
    "        self.welcome_label_2.config(font=(\"Courier\", 44))\n",
    "        self.welcome_label_2.pack(padx=5, pady=5)\n",
    "        \n",
    "        self.review = Entry(self.root, width=70)\n",
    "        self.review.pack(pady=5)\n",
    "        self.classify = Button(self.root, text=\"Classify\", relief=\"flat\", bg='dark green', fg='white'\n",
    "                                , width=50, height=5, command=self.get_review)\n",
    "        self.classify.pack(pady=5)\n",
    "        self.status_lbl = Label(self.root, text=\"Status: Null\", fg=\"blue\", bg='black')\n",
    "        self.status_lbl.config(font=(\"Courier\", 30))\n",
    "        self.status_lbl.pack()\n",
    "        self.root.mainloop()\n",
    "\n",
    "    @staticmethod\n",
    "    def about():\n",
    "        tkinter.messagebox.showinfo(\"About\", \"I have been created by Essam Mohamed\")\n",
    "\n",
    "    def get_review(self):\n",
    "        review = self.review.get()\n",
    "        prediction = predict_review([review])\n",
    "        print(prediction)\n",
    "        if prediction[0] > 0.5:\n",
    "            self.status_lbl.config(text=\"Status: Positive REVIEW\", fg='dark green')\n",
    "        else:\n",
    "            self.status_lbl.config(text=\"Status: Negative REVIEW\", fg='dark red')\n"
   ]
  },
  {
   "cell_type": "code",
   "execution_count": 95,
   "metadata": {},
   "outputs": [
    {
     "name": "stdout",
     "output_type": "stream",
     "text": [
      "[[0.88076794]]\n",
      "[[0.4182045]]\n",
      "[[0.06150676]]\n",
      "[[0.06150676]]\n",
      "[[0.00019468]]\n",
      "[[0.8544752]]\n",
      "[[0.00139868]]\n"
     ]
    },
    {
     "data": {
      "text/plain": [
       "<__main__.ReviewClassifier at 0x7f6ed80aad50>"
      ]
     },
     "execution_count": 95,
     "metadata": {},
     "output_type": "execute_result"
    }
   ],
   "source": [
    "ReviewClassifier()"
   ]
  },
  {
   "cell_type": "code",
   "execution_count": null,
   "metadata": {},
   "outputs": [],
   "source": []
  }
 ],
 "metadata": {
  "kernelspec": {
   "display_name": "Python 3",
   "language": "python",
   "name": "python3"
  },
  "language_info": {
   "codemirror_mode": {
    "name": "ipython",
    "version": 3
   },
   "file_extension": ".py",
   "mimetype": "text/x-python",
   "name": "python",
   "nbconvert_exporter": "python",
   "pygments_lexer": "ipython3",
   "version": "3.7.6"
  }
 },
 "nbformat": 4,
 "nbformat_minor": 4
}
