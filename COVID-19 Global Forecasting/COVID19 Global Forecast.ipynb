{
 "cells": [
  {
   "cell_type": "code",
   "execution_count": 2,
   "metadata": {},
   "outputs": [],
   "source": [
    "import pandas as pd\n",
    "from sklearn.preprocessing import PolynomialFeatures\n",
    "from sklearn.linear_model import LinearRegression\n",
    "from sklearn.model_selection import train_test_split\n",
    "from matplotlib import pyplot as plt\n",
    "import numpy as np"
   ]
  },
  {
   "cell_type": "code",
   "execution_count": 3,
   "metadata": {},
   "outputs": [],
   "source": [
    "df = pd.read_csv(\"train (copy).csv\")"
   ]
  },
  {
   "cell_type": "code",
   "execution_count": 4,
   "metadata": {},
   "outputs": [
    {
     "data": {
      "text/html": [
       "<div>\n",
       "<style scoped>\n",
       "    .dataframe tbody tr th:only-of-type {\n",
       "        vertical-align: middle;\n",
       "    }\n",
       "\n",
       "    .dataframe tbody tr th {\n",
       "        vertical-align: top;\n",
       "    }\n",
       "\n",
       "    .dataframe thead th {\n",
       "        text-align: right;\n",
       "    }\n",
       "</style>\n",
       "<table border=\"1\" class=\"dataframe\">\n",
       "  <thead>\n",
       "    <tr style=\"text-align: right;\">\n",
       "      <th></th>\n",
       "      <th>Id</th>\n",
       "      <th>Province_State</th>\n",
       "      <th>Country_Region</th>\n",
       "      <th>Date</th>\n",
       "      <th>ConfirmedCases</th>\n",
       "      <th>Fatalities</th>\n",
       "    </tr>\n",
       "  </thead>\n",
       "  <tbody>\n",
       "    <tr>\n",
       "      <th>0</th>\n",
       "      <td>1</td>\n",
       "      <td>NaN</td>\n",
       "      <td>Afghanistan</td>\n",
       "      <td>2020-01-22</td>\n",
       "      <td>0.0</td>\n",
       "      <td>0.0</td>\n",
       "    </tr>\n",
       "    <tr>\n",
       "      <th>1</th>\n",
       "      <td>2</td>\n",
       "      <td>NaN</td>\n",
       "      <td>Afghanistan</td>\n",
       "      <td>2020-01-23</td>\n",
       "      <td>0.0</td>\n",
       "      <td>0.0</td>\n",
       "    </tr>\n",
       "    <tr>\n",
       "      <th>2</th>\n",
       "      <td>3</td>\n",
       "      <td>NaN</td>\n",
       "      <td>Afghanistan</td>\n",
       "      <td>2020-01-24</td>\n",
       "      <td>0.0</td>\n",
       "      <td>0.0</td>\n",
       "    </tr>\n",
       "    <tr>\n",
       "      <th>3</th>\n",
       "      <td>4</td>\n",
       "      <td>NaN</td>\n",
       "      <td>Afghanistan</td>\n",
       "      <td>2020-01-25</td>\n",
       "      <td>0.0</td>\n",
       "      <td>0.0</td>\n",
       "    </tr>\n",
       "    <tr>\n",
       "      <th>4</th>\n",
       "      <td>5</td>\n",
       "      <td>NaN</td>\n",
       "      <td>Afghanistan</td>\n",
       "      <td>2020-01-26</td>\n",
       "      <td>0.0</td>\n",
       "      <td>0.0</td>\n",
       "    </tr>\n",
       "  </tbody>\n",
       "</table>\n",
       "</div>"
      ],
      "text/plain": [
       "   Id Province_State Country_Region        Date  ConfirmedCases  Fatalities\n",
       "0   1            NaN    Afghanistan  2020-01-22             0.0         0.0\n",
       "1   2            NaN    Afghanistan  2020-01-23             0.0         0.0\n",
       "2   3            NaN    Afghanistan  2020-01-24             0.0         0.0\n",
       "3   4            NaN    Afghanistan  2020-01-25             0.0         0.0\n",
       "4   5            NaN    Afghanistan  2020-01-26             0.0         0.0"
      ]
     },
     "execution_count": 4,
     "metadata": {},
     "output_type": "execute_result"
    }
   ],
   "source": [
    "df.head()"
   ]
  },
  {
   "cell_type": "code",
   "execution_count": 5,
   "metadata": {},
   "outputs": [
    {
     "name": "stdout",
     "output_type": "stream",
     "text": [
      "Number of Country/Region is 173\n",
      "Countries with Province/State informed are ['Australia' 'Canada' 'China' 'Denmark' 'France' 'Netherlands' 'US'\n",
      " 'United Kingdom']\n"
     ]
    }
   ],
   "source": [
    "print(\"Number of Country/Region is\", df['Country_Region'].nunique())\n",
    "\n",
    "print(\"Countries with Province/State informed are\"\n",
    "      , df[df['Province_State'].isna()==False]['Country_Region'].unique())"
   ]
  },
  {
   "cell_type": "code",
   "execution_count": 6,
   "metadata": {},
   "outputs": [
    {
     "data": {
      "text/html": [
       "<div>\n",
       "<style scoped>\n",
       "    .dataframe tbody tr th:only-of-type {\n",
       "        vertical-align: middle;\n",
       "    }\n",
       "\n",
       "    .dataframe tbody tr th {\n",
       "        vertical-align: top;\n",
       "    }\n",
       "\n",
       "    .dataframe thead th {\n",
       "        text-align: right;\n",
       "    }\n",
       "</style>\n",
       "<table border=\"1\" class=\"dataframe\">\n",
       "  <thead>\n",
       "    <tr style=\"text-align: right;\">\n",
       "      <th></th>\n",
       "      <th>Id</th>\n",
       "      <th>ConfirmedCases</th>\n",
       "      <th>Fatalities</th>\n",
       "    </tr>\n",
       "  </thead>\n",
       "  <tbody>\n",
       "    <tr>\n",
       "      <th>count</th>\n",
       "      <td>20580.000000</td>\n",
       "      <td>20580.000000</td>\n",
       "      <td>20580.000000</td>\n",
       "    </tr>\n",
       "    <tr>\n",
       "      <th>mean</th>\n",
       "      <td>14685.500000</td>\n",
       "      <td>514.939116</td>\n",
       "      <td>21.080952</td>\n",
       "    </tr>\n",
       "    <tr>\n",
       "      <th>std</th>\n",
       "      <td>8487.230117</td>\n",
       "      <td>4541.261768</td>\n",
       "      <td>287.758197</td>\n",
       "    </tr>\n",
       "    <tr>\n",
       "      <th>min</th>\n",
       "      <td>1.000000</td>\n",
       "      <td>0.000000</td>\n",
       "      <td>0.000000</td>\n",
       "    </tr>\n",
       "    <tr>\n",
       "      <th>25%</th>\n",
       "      <td>7335.750000</td>\n",
       "      <td>0.000000</td>\n",
       "      <td>0.000000</td>\n",
       "    </tr>\n",
       "    <tr>\n",
       "      <th>50%</th>\n",
       "      <td>14685.500000</td>\n",
       "      <td>0.000000</td>\n",
       "      <td>0.000000</td>\n",
       "    </tr>\n",
       "    <tr>\n",
       "      <th>75%</th>\n",
       "      <td>22035.250000</td>\n",
       "      <td>35.000000</td>\n",
       "      <td>0.000000</td>\n",
       "    </tr>\n",
       "    <tr>\n",
       "      <th>max</th>\n",
       "      <td>29370.000000</td>\n",
       "      <td>105792.000000</td>\n",
       "      <td>12428.000000</td>\n",
       "    </tr>\n",
       "  </tbody>\n",
       "</table>\n",
       "</div>"
      ],
      "text/plain": [
       "                 Id  ConfirmedCases    Fatalities\n",
       "count  20580.000000    20580.000000  20580.000000\n",
       "mean   14685.500000      514.939116     21.080952\n",
       "std     8487.230117     4541.261768    287.758197\n",
       "min        1.000000        0.000000      0.000000\n",
       "25%     7335.750000        0.000000      0.000000\n",
       "50%    14685.500000        0.000000      0.000000\n",
       "75%    22035.250000       35.000000      0.000000\n",
       "max    29370.000000   105792.000000  12428.000000"
      ]
     },
     "execution_count": 6,
     "metadata": {},
     "output_type": "execute_result"
    }
   ],
   "source": [
    "df.describe()"
   ]
  },
  {
   "cell_type": "code",
   "execution_count": 7,
   "metadata": {},
   "outputs": [
    {
     "data": {
      "text/plain": [
       "Text(0.5, 0, 'Date')"
      ]
     },
     "execution_count": 7,
     "metadata": {},
     "output_type": "execute_result"
    },
    {
     "data": {
      "image/png": "[encoded data removed]",
      "text/plain": [
       "<Figure size 1440x432 with 2 Axes>"
      ]
     },
     "metadata": {
      "needs_background": "light"
     },
     "output_type": "display_data"
    }
   ],
   "source": [
    "confirmed_dates = df.groupby(['Date']).agg({'ConfirmedCases':['sum']})\n",
    "fatalities_dates = df.groupby(['Date']).agg({'Fatalities':['sum']})\n",
    "total_dates = confirmed_dates.join(fatalities_dates)\n",
    "\n",
    "fig, (ax1, ax2) = plt.subplots(1, 2, figsize=(20,6))\n",
    "total_dates.plot(ax=ax1)\n",
    "ax1.set_title(\"Global confirmed cases\", size=13)\n",
    "ax1.set_ylabel(\"Number of cases\", size=13)\n",
    "ax1.set_xlabel(\"Date\", size=13)\n",
    "fatalities_dates.plot(ax=ax2, color='orange')\n",
    "ax2.set_title(\"Global deceased cases\", size=13)\n",
    "ax2.set_ylabel(\"Number of cases\", size=13)\n",
    "ax2.set_xlabel(\"Date\", size=13)"
   ]
  },
  {
   "cell_type": "code",
   "execution_count": 8,
   "metadata": {},
   "outputs": [
    {
     "data": {
      "text/plain": [
       "<matplotlib.axes._subplots.AxesSubplot at 0x7f4202e735d0>"
      ]
     },
     "execution_count": 8,
     "metadata": {},
     "output_type": "execute_result"
    },
    {
     "data": {
      "image/png": "[encoded data removed]",
      "text/plain": [
       "<Figure size 432x288 with 1 Axes>"
      ]
     },
     "metadata": {
      "needs_background": "light"
     },
     "output_type": "display_data"
    }
   ],
   "source": [
    "confirmed_total_date_Italy = df[df['Country_Region']=='Italy'].groupby(['Date']).agg({'ConfirmedCases':['sum']})\n",
    "fatalities_total_date_Italy = df[df['Country_Region']=='Italy'].groupby(['Date']).agg({'Fatalities':['sum']})\n",
    "total_date_Italy = confirmed_total_date_Italy.join(fatalities_total_date_Italy)\n",
    "total_date_Italy.plot(ax=plt.gca(), title='Italy')"
   ]
  },
  {
   "cell_type": "code",
   "execution_count": 9,
   "metadata": {},
   "outputs": [],
   "source": [
    "# building datasets for every country\n",
    "# &(df['Lat'] == df[df['Country/Region'] == c].Lat.iloc[0])\n",
    "countries_data = {}\n",
    "for c in df['Country_Region'].unique():\n",
    "    countries_data[c]=df[(df['Country_Region'] == c)]\n",
    "    countries_data[c].insert(0, 'New_ID', countries_data[c].Id - countries_data[c].Id.iloc[0])"
   ]
  },
  {
   "cell_type": "code",
   "execution_count": 10,
   "metadata": {},
   "outputs": [
    {
     "data": {
      "text/html": [
       "<div>\n",
       "<style scoped>\n",
       "    .dataframe tbody tr th:only-of-type {\n",
       "        vertical-align: middle;\n",
       "    }\n",
       "\n",
       "    .dataframe tbody tr th {\n",
       "        vertical-align: top;\n",
       "    }\n",
       "\n",
       "    .dataframe thead th {\n",
       "        text-align: right;\n",
       "    }\n",
       "</style>\n",
       "<table border=\"1\" class=\"dataframe\">\n",
       "  <thead>\n",
       "    <tr style=\"text-align: right;\">\n",
       "      <th></th>\n",
       "      <th>New_ID</th>\n",
       "      <th>Id</th>\n",
       "      <th>Province_State</th>\n",
       "      <th>Country_Region</th>\n",
       "      <th>Date</th>\n",
       "      <th>ConfirmedCases</th>\n",
       "      <th>Fatalities</th>\n",
       "    </tr>\n",
       "  </thead>\n",
       "  <tbody>\n",
       "    <tr>\n",
       "      <th>3430</th>\n",
       "      <td>0</td>\n",
       "      <td>4901</td>\n",
       "      <td>Anhui</td>\n",
       "      <td>China</td>\n",
       "      <td>2020-01-22</td>\n",
       "      <td>1.0</td>\n",
       "      <td>0.0</td>\n",
       "    </tr>\n",
       "    <tr>\n",
       "      <th>3431</th>\n",
       "      <td>1</td>\n",
       "      <td>4902</td>\n",
       "      <td>Anhui</td>\n",
       "      <td>China</td>\n",
       "      <td>2020-01-23</td>\n",
       "      <td>9.0</td>\n",
       "      <td>0.0</td>\n",
       "    </tr>\n",
       "    <tr>\n",
       "      <th>3432</th>\n",
       "      <td>2</td>\n",
       "      <td>4903</td>\n",
       "      <td>Anhui</td>\n",
       "      <td>China</td>\n",
       "      <td>2020-01-24</td>\n",
       "      <td>15.0</td>\n",
       "      <td>0.0</td>\n",
       "    </tr>\n",
       "    <tr>\n",
       "      <th>3433</th>\n",
       "      <td>3</td>\n",
       "      <td>4904</td>\n",
       "      <td>Anhui</td>\n",
       "      <td>China</td>\n",
       "      <td>2020-01-25</td>\n",
       "      <td>39.0</td>\n",
       "      <td>0.0</td>\n",
       "    </tr>\n",
       "    <tr>\n",
       "      <th>3434</th>\n",
       "      <td>4</td>\n",
       "      <td>4905</td>\n",
       "      <td>Anhui</td>\n",
       "      <td>China</td>\n",
       "      <td>2020-01-26</td>\n",
       "      <td>60.0</td>\n",
       "      <td>0.0</td>\n",
       "    </tr>\n",
       "    <tr>\n",
       "      <th>...</th>\n",
       "      <td>...</td>\n",
       "      <td>...</td>\n",
       "      <td>...</td>\n",
       "      <td>...</td>\n",
       "      <td>...</td>\n",
       "      <td>...</td>\n",
       "      <td>...</td>\n",
       "    </tr>\n",
       "    <tr>\n",
       "      <th>5735</th>\n",
       "      <td>3265</td>\n",
       "      <td>8166</td>\n",
       "      <td>Zhejiang</td>\n",
       "      <td>China</td>\n",
       "      <td>2020-03-27</td>\n",
       "      <td>1247.0</td>\n",
       "      <td>1.0</td>\n",
       "    </tr>\n",
       "    <tr>\n",
       "      <th>5736</th>\n",
       "      <td>3266</td>\n",
       "      <td>8167</td>\n",
       "      <td>Zhejiang</td>\n",
       "      <td>China</td>\n",
       "      <td>2020-03-28</td>\n",
       "      <td>1251.0</td>\n",
       "      <td>1.0</td>\n",
       "    </tr>\n",
       "    <tr>\n",
       "      <th>5737</th>\n",
       "      <td>3267</td>\n",
       "      <td>8168</td>\n",
       "      <td>Zhejiang</td>\n",
       "      <td>China</td>\n",
       "      <td>2020-03-29</td>\n",
       "      <td>1254.0</td>\n",
       "      <td>1.0</td>\n",
       "    </tr>\n",
       "    <tr>\n",
       "      <th>5738</th>\n",
       "      <td>3268</td>\n",
       "      <td>8169</td>\n",
       "      <td>Zhejiang</td>\n",
       "      <td>China</td>\n",
       "      <td>2020-03-30</td>\n",
       "      <td>1255.0</td>\n",
       "      <td>1.0</td>\n",
       "    </tr>\n",
       "    <tr>\n",
       "      <th>5739</th>\n",
       "      <td>3269</td>\n",
       "      <td>8170</td>\n",
       "      <td>Zhejiang</td>\n",
       "      <td>China</td>\n",
       "      <td>2020-03-31</td>\n",
       "      <td>1257.0</td>\n",
       "      <td>1.0</td>\n",
       "    </tr>\n",
       "  </tbody>\n",
       "</table>\n",
       "<p>2310 rows × 7 columns</p>\n",
       "</div>"
      ],
      "text/plain": [
       "      New_ID    Id Province_State Country_Region        Date  ConfirmedCases  \\\n",
       "3430       0  4901          Anhui          China  2020-01-22             1.0   \n",
       "3431       1  4902          Anhui          China  2020-01-23             9.0   \n",
       "3432       2  4903          Anhui          China  2020-01-24            15.0   \n",
       "3433       3  4904          Anhui          China  2020-01-25            39.0   \n",
       "3434       4  4905          Anhui          China  2020-01-26            60.0   \n",
       "...      ...   ...            ...            ...         ...             ...   \n",
       "5735    3265  8166       Zhejiang          China  2020-03-27          1247.0   \n",
       "5736    3266  8167       Zhejiang          China  2020-03-28          1251.0   \n",
       "5737    3267  8168       Zhejiang          China  2020-03-29          1254.0   \n",
       "5738    3268  8169       Zhejiang          China  2020-03-30          1255.0   \n",
       "5739    3269  8170       Zhejiang          China  2020-03-31          1257.0   \n",
       "\n",
       "      Fatalities  \n",
       "3430         0.0  \n",
       "3431         0.0  \n",
       "3432         0.0  \n",
       "3433         0.0  \n",
       "3434         0.0  \n",
       "...          ...  \n",
       "5735         1.0  \n",
       "5736         1.0  \n",
       "5737         1.0  \n",
       "5738         1.0  \n",
       "5739         1.0  \n",
       "\n",
       "[2310 rows x 7 columns]"
      ]
     },
     "execution_count": 10,
     "metadata": {},
     "output_type": "execute_result"
    }
   ],
   "source": [
    "countries_data['China']"
   ]
  },
  {
   "cell_type": "code",
   "execution_count": 11,
   "metadata": {},
   "outputs": [],
   "source": [
    "pd.set_option('mode.chained_assignment', None)\n",
    "def build_model(c, target, num): # num representes the day\n",
    "\n",
    "    data = countries_data[c]\n",
    "    data.New_ID = data.New_ID - data.New_ID.iloc[0]\n",
    "    X = np.array(data['New_ID']).reshape(-1, 1)\n",
    "    y = np.array(data[target])\n",
    "    X_train, X_test, y_train, y_test = train_test_split(X, y, test_size=0.2)\n",
    "    scores = []\n",
    "\n",
    "    for i in range(1, 11):\n",
    "        print(\"Euation of \"+str(i)+\" Degree BEGINS\")\n",
    "        poly = PolynomialFeatures(degree=i)\n",
    "        poly_x = poly.fit_transform(X_train)\n",
    "        pol_reg = LinearRegression()\n",
    "        pol_reg.fit(poly_x, y_train)\n",
    "        print(\"Euation of \"+str(i)+\" Degree Ends with acc = \"+str(pol_reg.score(poly.fit_transform(X_test), y_test)*100) + \"%\")\n",
    "        scores.append(pol_reg.score(poly.fit_transform(X_test), y_test))\n",
    "    \n",
    "    fig, (ax1, ax2) = plt.subplots(1, 2, figsize=(20,6))\n",
    "    ax1.plot(X, y)\n",
    "    ax1.set_title(c + \" confirmed cases\", size=13)\n",
    "    ax1.set_ylabel(\"Number of cases\", size=13)\n",
    "    ax1.set_xlabel(\"Date_ID\", size=13)\n",
    "    ax2.plot(range(1, 11), scores, color='orange')\n",
    "    ax2.set_title(\"Accuracy vs. Degree\", size=13)\n",
    "    ax2.set_ylabel(\"Accuracy\", size=13)\n",
    "    ax2.set_xlabel(\"Degree\", size=13)\n",
    "    \n",
    "    # finding best degree for each country\n",
    "    max_ = 0\n",
    "    max_i = 0\n",
    "    for index, acc in enumerate(scores):\n",
    "        if acc > max_:\n",
    "            max_ = acc\n",
    "            max_i = index\n",
    "    print(\"Best PolynomialDegree is \" + str(max_i+1) + \" with accuracy \" + str(max_*100) + \"%\")\n",
    "    max_i += 1\n",
    "    poly = PolynomialFeatures(degree=max_i)\n",
    "    poly_x = poly.fit_transform(X_train)\n",
    "    pol_reg = LinearRegression()\n",
    "    pol_reg.fit(poly_x, y_train)\n",
    "    prediction = pol_reg.predict(poly.fit_transform([[num]]))\n",
    "    return int(prediction)"
   ]
  },
  {
   "cell_type": "code",
   "execution_count": 12,
   "metadata": {},
   "outputs": [
    {
     "name": "stdout",
     "output_type": "stream",
     "text": [
      "Euation of 1 Degree BEGINS\n",
      "Euation of 1 Degree Ends with acc = 40.84226661046985%\n",
      "Euation of 2 Degree BEGINS\n",
      "Euation of 2 Degree Ends with acc = 78.16330361189242%\n",
      "Euation of 3 Degree BEGINS\n",
      "Euation of 3 Degree Ends with acc = 95.42255774490312%\n",
      "Euation of 4 Degree BEGINS\n",
      "Euation of 4 Degree Ends with acc = 99.20023099808637%\n",
      "Euation of 5 Degree BEGINS\n",
      "Euation of 5 Degree Ends with acc = 99.17614711682695%\n",
      "Euation of 6 Degree BEGINS\n",
      "Euation of 6 Degree Ends with acc = 99.28482098030037%\n",
      "Euation of 7 Degree BEGINS\n",
      "Euation of 7 Degree Ends with acc = 99.59287429228405%\n",
      "Euation of 8 Degree BEGINS\n",
      "Euation of 8 Degree Ends with acc = 99.7383469067466%\n",
      "Euation of 9 Degree BEGINS\n",
      "Euation of 9 Degree Ends with acc = 99.75490154564407%\n",
      "Euation of 10 Degree BEGINS\n",
      "Euation of 10 Degree Ends with acc = 99.75309384001638%\n",
      "Best PolynomialDegree is 9 with accuracy 99.75490154564407%\n"
     ]
    },
    {
     "data": {
      "text/plain": [
       "26"
      ]
     },
     "execution_count": 12,
     "metadata": {},
     "output_type": "execute_result"
    },
    {
     "data": {
      "image/png": "[encoded data removed]",
      "text/plain": [
       "<Figure size 1440x432 with 2 Axes>"
      ]
     },
     "metadata": {
      "needs_background": "light"
     },
     "output_type": "display_data"
    }
   ],
   "source": [
    "build_model('Egypt', 'Fatalities', 64) # for Egypt"
   ]
  },
  {
   "cell_type": "code",
   "execution_count": 13,
   "metadata": {},
   "outputs": [
    {
     "name": "stdout",
     "output_type": "stream",
     "text": [
      "Euation of 1 Degree BEGINS\n",
      "Euation of 1 Degree Ends with acc = 54.53857366192325%\n",
      "Euation of 2 Degree BEGINS\n",
      "Euation of 2 Degree Ends with acc = 90.81792143306656%\n",
      "Euation of 3 Degree BEGINS\n",
      "Euation of 3 Degree Ends with acc = 99.56163941406447%\n",
      "Euation of 4 Degree BEGINS\n",
      "Euation of 4 Degree Ends with acc = 99.63607735747779%\n",
      "Euation of 5 Degree BEGINS\n",
      "Euation of 5 Degree Ends with acc = 99.83243053779829%\n",
      "Euation of 6 Degree BEGINS\n",
      "Euation of 6 Degree Ends with acc = 99.84392661002059%\n",
      "Euation of 7 Degree BEGINS\n",
      "Euation of 7 Degree Ends with acc = 99.80062623832629%\n",
      "Euation of 8 Degree BEGINS\n",
      "Euation of 8 Degree Ends with acc = 99.82958051733786%\n",
      "Euation of 9 Degree BEGINS\n",
      "Euation of 9 Degree Ends with acc = 99.84865833566377%\n",
      "Euation of 10 Degree BEGINS\n",
      "Euation of 10 Degree Ends with acc = 99.85380216577207%\n",
      "Best PolynomialDegree is 10 with accuracy 99.85380216577207%\n"
     ]
    },
    {
     "data": {
      "text/plain": [
       "490"
      ]
     },
     "execution_count": 13,
     "metadata": {},
     "output_type": "execute_result"
    },
    {
     "data": {
      "image/png": "[encoded data removed]",
      "text/plain": [
       "<Figure size 1440x432 with 2 Axes>"
      ]
     },
     "metadata": {
      "needs_background": "light"
     },
     "output_type": "display_data"
    }
   ],
   "source": [
    "build_model('Egypt', 'ConfirmedCases', 64) # for Egypt"
   ]
  },
  {
   "cell_type": "code",
   "execution_count": 14,
   "metadata": {},
   "outputs": [
    {
     "name": "stdout",
     "output_type": "stream",
     "text": [
      "Euation of 1 Degree BEGINS\n",
      "Euation of 1 Degree Ends with acc = 30.378437377961408%\n",
      "Euation of 2 Degree BEGINS\n",
      "Euation of 2 Degree Ends with acc = 86.01878332228733%\n",
      "Euation of 3 Degree BEGINS\n",
      "Euation of 3 Degree Ends with acc = 98.92773198609258%\n",
      "Euation of 4 Degree BEGINS\n",
      "Euation of 4 Degree Ends with acc = 99.07451565663438%\n",
      "Euation of 5 Degree BEGINS\n",
      "Euation of 5 Degree Ends with acc = 99.41708408398668%\n",
      "Euation of 6 Degree BEGINS\n",
      "Euation of 6 Degree Ends with acc = 99.83784536627476%\n",
      "Euation of 7 Degree BEGINS\n",
      "Euation of 7 Degree Ends with acc = 99.92302819798931%\n",
      "Euation of 8 Degree BEGINS\n",
      "Euation of 8 Degree Ends with acc = 99.91895164791654%\n",
      "Euation of 9 Degree BEGINS\n",
      "Euation of 9 Degree Ends with acc = 99.93823240255753%\n",
      "Euation of 10 Degree BEGINS\n",
      "Euation of 10 Degree Ends with acc = 99.94784636954945%\n",
      "Best PolynomialDegree is 10 with accuracy 99.94784636954945%\n"
     ]
    },
    {
     "data": {
      "text/plain": [
       "57791"
      ]
     },
     "execution_count": 14,
     "metadata": {},
     "output_type": "execute_result"
    },
    {
     "data": {
      "image/png": "[encoded data removed]",
      "text/plain": [
       "<Figure size 1440x432 with 2 Axes>"
      ]
     },
     "metadata": {
      "needs_background": "light"
     },
     "output_type": "display_data"
    }
   ],
   "source": [
    "build_model('Italy','ConfirmedCases', 60)"
   ]
  },
  {
   "cell_type": "code",
   "execution_count": 15,
   "metadata": {},
   "outputs": [
    {
     "name": "stdout",
     "output_type": "stream",
     "text": [
      "Euation of 1 Degree BEGINS\n",
      "Euation of 1 Degree Ends with acc = 56.81860455190362%\n",
      "Euation of 2 Degree BEGINS\n",
      "Euation of 2 Degree Ends with acc = 87.53376794042077%\n",
      "Euation of 3 Degree BEGINS\n",
      "Euation of 3 Degree Ends with acc = 99.13480072127717%\n",
      "Euation of 4 Degree BEGINS\n",
      "Euation of 4 Degree Ends with acc = 99.64275281083337%\n",
      "Euation of 5 Degree BEGINS\n",
      "Euation of 5 Degree Ends with acc = 99.72320852725558%\n",
      "Euation of 6 Degree BEGINS\n",
      "Euation of 6 Degree Ends with acc = 99.95932119122561%\n",
      "Euation of 7 Degree BEGINS\n",
      "Euation of 7 Degree Ends with acc = 99.99034099077613%\n",
      "Euation of 8 Degree BEGINS\n",
      "Euation of 8 Degree Ends with acc = 99.9899957748363%\n",
      "Euation of 9 Degree BEGINS\n",
      "Euation of 9 Degree Ends with acc = 99.99348884092858%\n",
      "Euation of 10 Degree BEGINS\n",
      "Euation of 10 Degree Ends with acc = 99.99491049605122%\n",
      "Best PolynomialDegree is 10 with accuracy 99.99491049605122%\n"
     ]
    },
    {
     "data": {
      "text/plain": [
       "5343"
      ]
     },
     "execution_count": 15,
     "metadata": {},
     "output_type": "execute_result"
    },
    {
     "data": {
      "image/png": "[encoded data removed]",
      "text/plain": [
       "<Figure size 1440x432 with 2 Axes>"
      ]
     },
     "metadata": {
      "needs_background": "light"
     },
     "output_type": "display_data"
    }
   ],
   "source": [
    "build_model('Italy','Fatalities', 60)"
   ]
  },
  {
   "cell_type": "code",
   "execution_count": 16,
   "metadata": {},
   "outputs": [],
   "source": [
    "def build_model_reduced(c, target, num): # num representes the day\n",
    "\n",
    "    data = countries_data[c]\n",
    "    data.New_ID = data.New_ID - data.New_ID.iloc[0]\n",
    "    X = np.array(data['New_ID']).reshape(-1, 1)\n",
    "    y = np.array(data[target])\n",
    "    X_train, X_test, y_train, y_test = train_test_split(X, y, test_size=0.2)\n",
    "    scores = []\n",
    "\n",
    "    for i in range(1, 11):\n",
    "        poly = PolynomialFeatures(degree=i)\n",
    "        poly_x = poly.fit_transform(X_train)\n",
    "        pol_reg = LinearRegression()\n",
    "        pol_reg.fit(poly_x, y_train)\n",
    "        scores.append(pol_reg.score(poly.fit_transform(X_test), y_test))\n",
    "    \n",
    "    # finding best degree for each country\n",
    "    max_ = 0\n",
    "    max_i = 0\n",
    "    for index, acc in enumerate(scores):\n",
    "        if acc > max_:\n",
    "            max_ = acc\n",
    "            max_i = index\n",
    "    print(\"Best PolynomialDegree is \" + str(max_i+1) + \" with accuracy \" + str(max_*100) + \"%\")\n",
    "    max_i += 1\n",
    "    poly = PolynomialFeatures(degree=max_i)\n",
    "    poly_x = poly.fit_transform(X_train)\n",
    "    pol_reg = LinearRegression()\n",
    "    pol_reg.fit(poly_x, y_train)\n",
    "    prediction = pol_reg.predict(poly.fit_transform([[num]]))\n",
    "    return int(prediction)\n"
   ]
  },
  {
   "cell_type": "code",
   "execution_count": 17,
   "metadata": {},
   "outputs": [
    {
     "name": "stdout",
     "output_type": "stream",
     "text": [
      "Best PolynomialDegree is 9 with accuracy 99.71366318989908%\n"
     ]
    },
    {
     "data": {
      "text/plain": [
       "6"
      ]
     },
     "execution_count": 17,
     "metadata": {},
     "output_type": "execute_result"
    }
   ],
   "source": [
    "build_model_reduced('Egypt', 'Fatalities', 57)"
   ]
  },
  {
   "cell_type": "code",
   "execution_count": 18,
   "metadata": {},
   "outputs": [],
   "source": [
    "# test file reading\n",
    "dt = pd.read_csv('test (copy).csv')"
   ]
  },
  {
   "cell_type": "code",
   "execution_count": 19,
   "metadata": {},
   "outputs": [
    {
     "data": {
      "text/html": [
       "<div>\n",
       "<style scoped>\n",
       "    .dataframe tbody tr th:only-of-type {\n",
       "        vertical-align: middle;\n",
       "    }\n",
       "\n",
       "    .dataframe tbody tr th {\n",
       "        vertical-align: top;\n",
       "    }\n",
       "\n",
       "    .dataframe thead th {\n",
       "        text-align: right;\n",
       "    }\n",
       "</style>\n",
       "<table border=\"1\" class=\"dataframe\">\n",
       "  <thead>\n",
       "    <tr style=\"text-align: right;\">\n",
       "      <th></th>\n",
       "      <th>ForecastId</th>\n",
       "      <th>Province_State</th>\n",
       "      <th>Country_Region</th>\n",
       "      <th>Date</th>\n",
       "    </tr>\n",
       "  </thead>\n",
       "  <tbody>\n",
       "    <tr>\n",
       "      <th>0</th>\n",
       "      <td>1</td>\n",
       "      <td>NaN</td>\n",
       "      <td>Afghanistan</td>\n",
       "      <td>2020-03-19</td>\n",
       "    </tr>\n",
       "    <tr>\n",
       "      <th>1</th>\n",
       "      <td>2</td>\n",
       "      <td>NaN</td>\n",
       "      <td>Afghanistan</td>\n",
       "      <td>2020-03-20</td>\n",
       "    </tr>\n",
       "    <tr>\n",
       "      <th>2</th>\n",
       "      <td>3</td>\n",
       "      <td>NaN</td>\n",
       "      <td>Afghanistan</td>\n",
       "      <td>2020-03-21</td>\n",
       "    </tr>\n",
       "    <tr>\n",
       "      <th>3</th>\n",
       "      <td>4</td>\n",
       "      <td>NaN</td>\n",
       "      <td>Afghanistan</td>\n",
       "      <td>2020-03-22</td>\n",
       "    </tr>\n",
       "    <tr>\n",
       "      <th>4</th>\n",
       "      <td>5</td>\n",
       "      <td>NaN</td>\n",
       "      <td>Afghanistan</td>\n",
       "      <td>2020-03-23</td>\n",
       "    </tr>\n",
       "  </tbody>\n",
       "</table>\n",
       "</div>"
      ],
      "text/plain": [
       "   ForecastId Province_State Country_Region        Date\n",
       "0           1            NaN    Afghanistan  2020-03-19\n",
       "1           2            NaN    Afghanistan  2020-03-20\n",
       "2           3            NaN    Afghanistan  2020-03-21\n",
       "3           4            NaN    Afghanistan  2020-03-22\n",
       "4           5            NaN    Afghanistan  2020-03-23"
      ]
     },
     "execution_count": 19,
     "metadata": {},
     "output_type": "execute_result"
    }
   ],
   "source": [
    "dt.head()"
   ]
  },
  {
   "cell_type": "code",
   "execution_count": 20,
   "metadata": {},
   "outputs": [
    {
     "data": {
      "text/plain": [
       "('Afghanistan', '2020-03-19')"
      ]
     },
     "execution_count": 20,
     "metadata": {},
     "output_type": "execute_result"
    }
   ],
   "source": [
    "dt.iloc[15, 2], dt.iloc[0, 3]"
   ]
  },
  {
   "cell_type": "code",
   "execution_count": 22,
   "metadata": {},
   "outputs": [
    {
     "name": "stdout",
     "output_type": "stream",
     "text": [
      "writing to 1th row\n",
      "Best PolynomialDegree is 10 with accuracy 99.15976347783398%\n",
      "Best PolynomialDegree is 10 with accuracy 88.88118568484647%\n",
      "57 [1, 24, 0]\n",
      "57 [1, 0, 0]\n",
      "writing to 2th row\n",
      "Best PolynomialDegree is 8 with accuracy 94.96561118551627%\n",
      "Best PolynomialDegree is 10 with accuracy 93.30426337805828%\n",
      "58 [2, 31, 0]\n",
      "58 [2, 24, 0]\n",
      "writing to 3th row\n",
      "Best PolynomialDegree is 9 with accuracy 98.2583798877587%\n",
      "Best PolynomialDegree is 1 with accuracy 0%\n",
      "59 [3, 39, 1]\n",
      "59 [3, 31, 0]\n",
      "writing to 4th row\n",
      "Best PolynomialDegree is 6 with accuracy 98.42981230861749%\n",
      "Best PolynomialDegree is 9 with accuracy 96.7353689879945%\n",
      "60 [4, 43, 1]\n",
      "60 [4, 39, 1]\n",
      "writing to 5th row\n",
      "Best PolynomialDegree is 4 with accuracy 99.27005078098452%\n",
      "Best PolynomialDegree is 10 with accuracy 87.3033726352617%\n",
      "61 [5, 57, 1]\n",
      "61 [5, 43, 1]\n",
      "writing to 6th row\n",
      "Best PolynomialDegree is 4 with accuracy 96.89810227187648%\n",
      "Best PolynomialDegree is 9 with accuracy 97.17607038791863%\n",
      "62 [6, 67, 1]\n",
      "62 [6, 57, 1]\n",
      "writing to 7th row\n",
      "Best PolynomialDegree is 6 with accuracy 98.60856541692712%\n",
      "Best PolynomialDegree is 10 with accuracy 90.72319742706436%\n",
      "63 [7, 74, 2]\n",
      "63 [7, 67, 1]\n",
      "writing to 8th row\n",
      "Best PolynomialDegree is 6 with accuracy 99.11620146352551%\n",
      "Best PolynomialDegree is 1 with accuracy 0%\n",
      "64 [8, 84, 2]\n",
      "64 [8, 74, 2]\n",
      "writing to 9th row\n",
      "Best PolynomialDegree is 10 with accuracy 94.08422149469581%\n",
      "Best PolynomialDegree is 1 with accuracy 0%\n",
      "65 [9, 101, 2]\n",
      "65 [9, 84, 2]\n",
      "writing to 10th row\n",
      "Best PolynomialDegree is 6 with accuracy 99.68860237803791%\n",
      "Best PolynomialDegree is 8 with accuracy 99.1378110142832%\n",
      "66 [10, 116, 3]\n",
      "66 [10, 101, 2]\n",
      "writing to 11th row\n",
      "Best PolynomialDegree is 10 with accuracy 99.3774229887071%\n",
      "Best PolynomialDegree is 10 with accuracy 29.130963192181923%\n",
      "67 [11, 140, 4]\n",
      "67 [11, 116, 3]\n",
      "writing to 12th row\n",
      "Best PolynomialDegree is 9 with accuracy 98.2816200779987%\n",
      "Best PolynomialDegree is 5 with accuracy 96.78631898846116%\n",
      "68 [12, 149, 4]\n",
      "68 [12, 140, 4]\n",
      "writing to 13th row\n",
      "Best PolynomialDegree is 9 with accuracy 98.148573068135%\n",
      "Best PolynomialDegree is 8 with accuracy 95.74414582640289%\n",
      "69 [13, 169, 4]\n",
      "69 [13, 149, 4]\n",
      "writing to 14th row\n",
      "Best PolynomialDegree is 5 with accuracy 99.55300965469719%\n",
      "Best PolynomialDegree is 1 with accuracy 0%\n",
      "70 [14, 204, 4]\n",
      "70 [14, 169, 4]\n",
      "writing to 15th row\n",
      "Best PolynomialDegree is 6 with accuracy 96.25721854753803%\n",
      "Best PolynomialDegree is 10 with accuracy 98.64014171603857%\n",
      "71 [15, 239, 4]\n",
      "71 [15, 204, 4]\n",
      "writing to 16th row\n",
      "Best PolynomialDegree is 4 with accuracy 96.86654344133572%\n"
     ]
    },
    {
     "ename": "KeyboardInterrupt",
     "evalue": "",
     "output_type": "error",
     "traceback": [
      "\u001b[0;31m---------------------------------------------------------------------------\u001b[0m",
      "\u001b[0;31mKeyboardInterrupt\u001b[0m                         Traceback (most recent call last)",
      "\u001b[0;32m<ipython-input-22-991ecad0ccea>\u001b[0m in \u001b[0;36m<module>\u001b[0;34m\u001b[0m\n\u001b[1;32m     13\u001b[0m \u001b[0;34m\u001b[0m\u001b[0m\n\u001b[1;32m     14\u001b[0m         \u001b[0mconf\u001b[0m \u001b[0;34m=\u001b[0m \u001b[0mabs\u001b[0m\u001b[0;34m(\u001b[0m\u001b[0mbuild_model_reduced\u001b[0m\u001b[0;34m(\u001b[0m\u001b[0mdt\u001b[0m\u001b[0;34m.\u001b[0m\u001b[0miloc\u001b[0m\u001b[0;34m[\u001b[0m\u001b[0mi\u001b[0m\u001b[0;34m,\u001b[0m \u001b[0;36m2\u001b[0m\u001b[0;34m]\u001b[0m\u001b[0;34m,\u001b[0m \u001b[0;34m'ConfirmedCases'\u001b[0m\u001b[0;34m,\u001b[0m \u001b[0mcounter\u001b[0m\u001b[0;34m)\u001b[0m\u001b[0;34m)\u001b[0m\u001b[0;34m\u001b[0m\u001b[0;34m\u001b[0m\u001b[0m\n\u001b[0;32m---> 15\u001b[0;31m         \u001b[0mdeath\u001b[0m \u001b[0;34m=\u001b[0m \u001b[0mabs\u001b[0m\u001b[0;34m(\u001b[0m\u001b[0mbuild_model_reduced\u001b[0m\u001b[0;34m(\u001b[0m\u001b[0mdt\u001b[0m\u001b[0;34m.\u001b[0m\u001b[0miloc\u001b[0m\u001b[0;34m[\u001b[0m\u001b[0mi\u001b[0m\u001b[0;34m,\u001b[0m \u001b[0;36m2\u001b[0m\u001b[0;34m]\u001b[0m\u001b[0;34m,\u001b[0m \u001b[0;34m'Fatalities'\u001b[0m\u001b[0;34m,\u001b[0m \u001b[0mcounter\u001b[0m\u001b[0;34m)\u001b[0m\u001b[0;34m)\u001b[0m\u001b[0;34m\u001b[0m\u001b[0;34m\u001b[0m\u001b[0m\n\u001b[0m\u001b[1;32m     16\u001b[0m         \u001b[0mconf_arr\u001b[0m\u001b[0;34m.\u001b[0m\u001b[0mappend\u001b[0m\u001b[0;34m(\u001b[0m\u001b[0mconf\u001b[0m\u001b[0;34m)\u001b[0m\u001b[0;34m\u001b[0m\u001b[0;34m\u001b[0m\u001b[0m\n\u001b[1;32m     17\u001b[0m         \u001b[0mdeath_arr\u001b[0m\u001b[0;34m.\u001b[0m\u001b[0mappend\u001b[0m\u001b[0;34m(\u001b[0m\u001b[0mdeath\u001b[0m\u001b[0;34m)\u001b[0m\u001b[0;34m\u001b[0m\u001b[0;34m\u001b[0m\u001b[0m\n",
      "\u001b[0;32m<ipython-input-16-44aad0b7aa86>\u001b[0m in \u001b[0;36mbuild_model_reduced\u001b[0;34m(c, target, num)\u001b[0m\n\u001b[1;32m     13\u001b[0m         \u001b[0mpol_reg\u001b[0m \u001b[0;34m=\u001b[0m \u001b[0mLinearRegression\u001b[0m\u001b[0;34m(\u001b[0m\u001b[0;34m)\u001b[0m\u001b[0;34m\u001b[0m\u001b[0;34m\u001b[0m\u001b[0m\n\u001b[1;32m     14\u001b[0m         \u001b[0mpol_reg\u001b[0m\u001b[0;34m.\u001b[0m\u001b[0mfit\u001b[0m\u001b[0;34m(\u001b[0m\u001b[0mpoly_x\u001b[0m\u001b[0;34m,\u001b[0m \u001b[0my_train\u001b[0m\u001b[0;34m)\u001b[0m\u001b[0;34m\u001b[0m\u001b[0;34m\u001b[0m\u001b[0m\n\u001b[0;32m---> 15\u001b[0;31m         \u001b[0mscores\u001b[0m\u001b[0;34m.\u001b[0m\u001b[0mappend\u001b[0m\u001b[0;34m(\u001b[0m\u001b[0mpol_reg\u001b[0m\u001b[0;34m.\u001b[0m\u001b[0mscore\u001b[0m\u001b[0;34m(\u001b[0m\u001b[0mpoly\u001b[0m\u001b[0;34m.\u001b[0m\u001b[0mfit_transform\u001b[0m\u001b[0;34m(\u001b[0m\u001b[0mX_test\u001b[0m\u001b[0;34m)\u001b[0m\u001b[0;34m,\u001b[0m \u001b[0my_test\u001b[0m\u001b[0;34m)\u001b[0m\u001b[0;34m)\u001b[0m\u001b[0;34m\u001b[0m\u001b[0;34m\u001b[0m\u001b[0m\n\u001b[0m\u001b[1;32m     16\u001b[0m \u001b[0;34m\u001b[0m\u001b[0m\n\u001b[1;32m     17\u001b[0m     \u001b[0;31m# finding best degree for each country\u001b[0m\u001b[0;34m\u001b[0m\u001b[0;34m\u001b[0m\u001b[0;34m\u001b[0m\u001b[0m\n",
      "\u001b[0;32m~/anaconda3/lib/python3.7/site-packages/sklearn/base.py\u001b[0m in \u001b[0;36mfit_transform\u001b[0;34m(self, X, y, **fit_params)\u001b[0m\n\u001b[1;32m    569\u001b[0m         \u001b[0;32mif\u001b[0m \u001b[0my\u001b[0m \u001b[0;32mis\u001b[0m \u001b[0;32mNone\u001b[0m\u001b[0;34m:\u001b[0m\u001b[0;34m\u001b[0m\u001b[0;34m\u001b[0m\u001b[0m\n\u001b[1;32m    570\u001b[0m             \u001b[0;31m# fit method of arity 1 (unsupervised transformation)\u001b[0m\u001b[0;34m\u001b[0m\u001b[0;34m\u001b[0m\u001b[0;34m\u001b[0m\u001b[0m\n\u001b[0;32m--> 571\u001b[0;31m             \u001b[0;32mreturn\u001b[0m \u001b[0mself\u001b[0m\u001b[0;34m.\u001b[0m\u001b[0mfit\u001b[0m\u001b[0;34m(\u001b[0m\u001b[0mX\u001b[0m\u001b[0;34m,\u001b[0m \u001b[0;34m**\u001b[0m\u001b[0mfit_params\u001b[0m\u001b[0;34m)\u001b[0m\u001b[0;34m.\u001b[0m\u001b[0mtransform\u001b[0m\u001b[0;34m(\u001b[0m\u001b[0mX\u001b[0m\u001b[0;34m)\u001b[0m\u001b[0;34m\u001b[0m\u001b[0;34m\u001b[0m\u001b[0m\n\u001b[0m\u001b[1;32m    572\u001b[0m         \u001b[0;32melse\u001b[0m\u001b[0;34m:\u001b[0m\u001b[0;34m\u001b[0m\u001b[0;34m\u001b[0m\u001b[0m\n\u001b[1;32m    573\u001b[0m             \u001b[0;31m# fit method of arity 2 (supervised transformation)\u001b[0m\u001b[0;34m\u001b[0m\u001b[0;34m\u001b[0m\u001b[0;34m\u001b[0m\u001b[0m\n",
      "\u001b[0;32m~/anaconda3/lib/python3.7/site-packages/sklearn/preprocessing/_data.py\u001b[0m in \u001b[0;36mtransform\u001b[0;34m(self, X)\u001b[0m\n\u001b[1;32m   1544\u001b[0m \u001b[0;34m\u001b[0m\u001b[0m\n\u001b[1;32m   1545\u001b[0m         X = check_array(X, order='F', dtype=FLOAT_DTYPES,\n\u001b[0;32m-> 1546\u001b[0;31m                         accept_sparse=('csr', 'csc'))\n\u001b[0m\u001b[1;32m   1547\u001b[0m \u001b[0;34m\u001b[0m\u001b[0m\n\u001b[1;32m   1548\u001b[0m         \u001b[0mn_samples\u001b[0m\u001b[0;34m,\u001b[0m \u001b[0mn_features\u001b[0m \u001b[0;34m=\u001b[0m \u001b[0mX\u001b[0m\u001b[0;34m.\u001b[0m\u001b[0mshape\u001b[0m\u001b[0;34m\u001b[0m\u001b[0;34m\u001b[0m\u001b[0m\n",
      "\u001b[0;32m~/anaconda3/lib/python3.7/site-packages/sklearn/utils/validation.py\u001b[0m in \u001b[0;36mcheck_array\u001b[0;34m(array, accept_sparse, accept_large_sparse, dtype, order, copy, force_all_finite, ensure_2d, allow_nd, ensure_min_samples, ensure_min_features, warn_on_dtype, estimator)\u001b[0m\n\u001b[1;32m    575\u001b[0m \u001b[0;34m\u001b[0m\u001b[0m\n\u001b[1;32m    576\u001b[0m         \u001b[0;32mif\u001b[0m \u001b[0mforce_all_finite\u001b[0m\u001b[0;34m:\u001b[0m\u001b[0;34m\u001b[0m\u001b[0;34m\u001b[0m\u001b[0m\n\u001b[0;32m--> 577\u001b[0;31m             _assert_all_finite(array,\n\u001b[0m\u001b[1;32m    578\u001b[0m                                allow_nan=force_all_finite == 'allow-nan')\n\u001b[1;32m    579\u001b[0m \u001b[0;34m\u001b[0m\u001b[0m\n",
      "\u001b[0;31mKeyboardInterrupt\u001b[0m: "
     ]
    }
   ],
   "source": [
    "import csv\n",
    "counter = 57\n",
    "with open('submission.csv', 'w', newline='') as file:\n",
    "    writer = csv.writer(file)\n",
    "    writer.writerow([\"ForecastId\", \"ConfirmedCases\", \"Fatalities\"])\n",
    "    conf_arr = []\n",
    "    death_arr = []\n",
    "    for i in range(0, 57):\n",
    "        conf_arr.append(0)\n",
    "        death_arr.append(0)\n",
    "    for i in range(1, len(dt)+1):\n",
    "        print('writing to ' + str(i) + 'th row')\n",
    "\n",
    "        conf = abs(build_model_reduced(dt.iloc[i, 2], 'ConfirmedCases', counter))\n",
    "        death = abs(build_model_reduced(dt.iloc[i, 2], 'Fatalities', counter))\n",
    "        conf_arr.append(conf)\n",
    "        death_arr.append(death)\n",
    "        if(conf_arr[-1] < conf_arr[-2]):\n",
    "            conf_arr[-1] = conf_arr[-2]\n",
    "        if(death_arr[-1] < death_arr[-2]):\n",
    "            death_arr[-1] = death_arr[-2]\n",
    "        print(counter, [i, conf_arr[-1], death_arr[-1]])\n",
    "        print(counter, [i, conf_arr[-2], death_arr[-2]])\n",
    "        writer.writerow([i, conf, death])\n",
    "        \n",
    "        if counter == 99:\n",
    "            counter = 57\n",
    "            conf_arr = []\n",
    "            death_arr = []\n",
    "            for i in range(0, 57):\n",
    "                conf_arr.append(0)\n",
    "                death_arr.append(0)\n",
    "        else:\n",
    "            counter += 1"
   ]
  },
  {
   "cell_type": "code",
   "execution_count": null,
   "metadata": {},
   "outputs": [],
   "source": []
  },
  {
   "cell_type": "code",
   "execution_count": null,
   "metadata": {},
   "outputs": [],
   "source": []
  },
  {
   "cell_type": "code",
   "execution_count": null,
   "metadata": {},
   "outputs": [],
   "source": []
  },
  {
   "cell_type": "code",
   "execution_count": null,
   "metadata": {},
   "outputs": [],
   "source": []
  },
  {
   "cell_type": "code",
   "execution_count": null,
   "metadata": {},
   "outputs": [],
   "source": []
  },
  {
   "cell_type": "code",
   "execution_count": null,
   "metadata": {},
   "outputs": [],
   "source": []
  },
  {
   "cell_type": "code",
   "execution_count": null,
   "metadata": {},
   "outputs": [],
   "source": []
  }
 ],
 "metadata": {
  "kernelspec": {
   "display_name": "Python 3",
   "language": "python",
   "name": "python3"
  },
  "language_info": {
   "codemirror_mode": {
    "name": "ipython",
    "version": 3
   },
   "file_extension": ".py",
   "mimetype": "text/x-python",
   "name": "python",
   "nbconvert_exporter": "python",
   "pygments_lexer": "ipython3",
   "version": "3.7.6"
  }
 },
 "nbformat": 4,
 "nbformat_minor": 4
}
