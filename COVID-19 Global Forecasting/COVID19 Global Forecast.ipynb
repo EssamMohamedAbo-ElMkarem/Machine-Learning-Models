{
 "cells": [
  {
   "cell_type": "code",
   "execution_count": 1,
   "metadata": {},
   "outputs": [],
   "source": [
    "import pandas as pd\n",
    "from sklearn.preprocessing import PolynomialFeatures\n",
    "from sklearn.linear_model import LinearRegression\n",
    "from sklearn.model_selection import train_test_split\n",
    "from matplotlib import pyplot as plt\n",
    "import numpy as np"
   ]
  },
  {
   "cell_type": "code",
   "execution_count": 4,
   "metadata": {},
   "outputs": [],
   "source": [
    "df = pd.read_csv(\"train (copy).csv\")"
   ]
  },
  {
   "cell_type": "code",
   "execution_count": 5,
   "metadata": {},
   "outputs": [
    {
     "data": {
      "text/html": [
       "<div>\n",
       "<style scoped>\n",
       "    .dataframe tbody tr th:only-of-type {\n",
       "        vertical-align: middle;\n",
       "    }\n",
       "\n",
       "    .dataframe tbody tr th {\n",
       "        vertical-align: top;\n",
       "    }\n",
       "\n",
       "    .dataframe thead th {\n",
       "        text-align: right;\n",
       "    }\n",
       "</style>\n",
       "<table border=\"1\" class=\"dataframe\">\n",
       "  <thead>\n",
       "    <tr style=\"text-align: right;\">\n",
       "      <th></th>\n",
       "      <th>Id</th>\n",
       "      <th>Province_State</th>\n",
       "      <th>Country_Region</th>\n",
       "      <th>Date</th>\n",
       "      <th>ConfirmedCases</th>\n",
       "      <th>Fatalities</th>\n",
       "    </tr>\n",
       "  </thead>\n",
       "  <tbody>\n",
       "    <tr>\n",
       "      <th>0</th>\n",
       "      <td>1</td>\n",
       "      <td>NaN</td>\n",
       "      <td>Afghanistan</td>\n",
       "      <td>2020-01-22</td>\n",
       "      <td>0.0</td>\n",
       "      <td>0.0</td>\n",
       "    </tr>\n",
       "    <tr>\n",
       "      <th>1</th>\n",
       "      <td>2</td>\n",
       "      <td>NaN</td>\n",
       "      <td>Afghanistan</td>\n",
       "      <td>2020-01-23</td>\n",
       "      <td>0.0</td>\n",
       "      <td>0.0</td>\n",
       "    </tr>\n",
       "    <tr>\n",
       "      <th>2</th>\n",
       "      <td>3</td>\n",
       "      <td>NaN</td>\n",
       "      <td>Afghanistan</td>\n",
       "      <td>2020-01-24</td>\n",
       "      <td>0.0</td>\n",
       "      <td>0.0</td>\n",
       "    </tr>\n",
       "    <tr>\n",
       "      <th>3</th>\n",
       "      <td>4</td>\n",
       "      <td>NaN</td>\n",
       "      <td>Afghanistan</td>\n",
       "      <td>2020-01-25</td>\n",
       "      <td>0.0</td>\n",
       "      <td>0.0</td>\n",
       "    </tr>\n",
       "    <tr>\n",
       "      <th>4</th>\n",
       "      <td>5</td>\n",
       "      <td>NaN</td>\n",
       "      <td>Afghanistan</td>\n",
       "      <td>2020-01-26</td>\n",
       "      <td>0.0</td>\n",
       "      <td>0.0</td>\n",
       "    </tr>\n",
       "  </tbody>\n",
       "</table>\n",
       "</div>"
      ],
      "text/plain": [
       "   Id Province_State Country_Region        Date  ConfirmedCases  Fatalities\n",
       "0   1            NaN    Afghanistan  2020-01-22             0.0         0.0\n",
       "1   2            NaN    Afghanistan  2020-01-23             0.0         0.0\n",
       "2   3            NaN    Afghanistan  2020-01-24             0.0         0.0\n",
       "3   4            NaN    Afghanistan  2020-01-25             0.0         0.0\n",
       "4   5            NaN    Afghanistan  2020-01-26             0.0         0.0"
      ]
     },
     "execution_count": 5,
     "metadata": {},
     "output_type": "execute_result"
    }
   ],
   "source": [
    "df.head()"
   ]
  },
  {
   "cell_type": "code",
   "execution_count": 8,
   "metadata": {},
   "outputs": [
    {
     "name": "stdout",
     "output_type": "stream",
     "text": [
      "Number of Country/Region is 173\n",
      "Countries with Province/State informed are ['Australia' 'Canada' 'China' 'Denmark' 'France' 'Netherlands' 'US'\n",
      " 'United Kingdom']\n"
     ]
    }
   ],
   "source": [
    "print(\"Number of Country/Region is\", df['Country_Region'].nunique())\n",
    "\n",
    "print(\"Countries with Province/State informed are\"\n",
    "      , df[df['Province_State'].isna()==False]['Country_Region'].unique())"
   ]
  },
  {
   "cell_type": "code",
   "execution_count": 9,
   "metadata": {},
   "outputs": [
    {
     "data": {
      "text/html": [
       "<div>\n",
       "<style scoped>\n",
       "    .dataframe tbody tr th:only-of-type {\n",
       "        vertical-align: middle;\n",
       "    }\n",
       "\n",
       "    .dataframe tbody tr th {\n",
       "        vertical-align: top;\n",
       "    }\n",
       "\n",
       "    .dataframe thead th {\n",
       "        text-align: right;\n",
       "    }\n",
       "</style>\n",
       "<table border=\"1\" class=\"dataframe\">\n",
       "  <thead>\n",
       "    <tr style=\"text-align: right;\">\n",
       "      <th></th>\n",
       "      <th>Id</th>\n",
       "      <th>ConfirmedCases</th>\n",
       "      <th>Fatalities</th>\n",
       "    </tr>\n",
       "  </thead>\n",
       "  <tbody>\n",
       "    <tr>\n",
       "      <th>count</th>\n",
       "      <td>20580.000000</td>\n",
       "      <td>20580.000000</td>\n",
       "      <td>20580.000000</td>\n",
       "    </tr>\n",
       "    <tr>\n",
       "      <th>mean</th>\n",
       "      <td>14685.500000</td>\n",
       "      <td>514.939116</td>\n",
       "      <td>21.080952</td>\n",
       "    </tr>\n",
       "    <tr>\n",
       "      <th>std</th>\n",
       "      <td>8487.230117</td>\n",
       "      <td>4541.261768</td>\n",
       "      <td>287.758197</td>\n",
       "    </tr>\n",
       "    <tr>\n",
       "      <th>min</th>\n",
       "      <td>1.000000</td>\n",
       "      <td>0.000000</td>\n",
       "      <td>0.000000</td>\n",
       "    </tr>\n",
       "    <tr>\n",
       "      <th>25%</th>\n",
       "      <td>7335.750000</td>\n",
       "      <td>0.000000</td>\n",
       "      <td>0.000000</td>\n",
       "    </tr>\n",
       "    <tr>\n",
       "      <th>50%</th>\n",
       "      <td>14685.500000</td>\n",
       "      <td>0.000000</td>\n",
       "      <td>0.000000</td>\n",
       "    </tr>\n",
       "    <tr>\n",
       "      <th>75%</th>\n",
       "      <td>22035.250000</td>\n",
       "      <td>35.000000</td>\n",
       "      <td>0.000000</td>\n",
       "    </tr>\n",
       "    <tr>\n",
       "      <th>max</th>\n",
       "      <td>29370.000000</td>\n",
       "      <td>105792.000000</td>\n",
       "      <td>12428.000000</td>\n",
       "    </tr>\n",
       "  </tbody>\n",
       "</table>\n",
       "</div>"
      ],
      "text/plain": [
       "                 Id  ConfirmedCases    Fatalities\n",
       "count  20580.000000    20580.000000  20580.000000\n",
       "mean   14685.500000      514.939116     21.080952\n",
       "std     8487.230117     4541.261768    287.758197\n",
       "min        1.000000        0.000000      0.000000\n",
       "25%     7335.750000        0.000000      0.000000\n",
       "50%    14685.500000        0.000000      0.000000\n",
       "75%    22035.250000       35.000000      0.000000\n",
       "max    29370.000000   105792.000000  12428.000000"
      ]
     },
     "execution_count": 9,
     "metadata": {},
     "output_type": "execute_result"
    }
   ],
   "source": [
    "df.describe()"
   ]
  },
  {
   "cell_type": "code",
   "execution_count": 10,
   "metadata": {},
   "outputs": [
    {
     "data": {
      "text/plain": [
       "Text(0.5, 0, 'Date')"
      ]
     },
     "execution_count": 10,
     "metadata": {},
     "output_type": "execute_result"
    },
    {
     "data": {
      "image/png": "[encoded data removed]",
      "text/plain": [
       "<Figure size 1440x432 with 2 Axes>"
      ]
     },
     "metadata": {
      "needs_background": "light"
     },
     "output_type": "display_data"
    }
   ],
   "source": [
    "confirmed_dates = df.groupby(['Date']).agg({'ConfirmedCases':['sum']})\n",
    "fatalities_dates = df.groupby(['Date']).agg({'Fatalities':['sum']})\n",
    "total_dates = confirmed_dates.join(fatalities_dates)\n",
    "\n",
    "fig, (ax1, ax2) = plt.subplots(1, 2, figsize=(20,6))\n",
    "total_dates.plot(ax=ax1)\n",
    "ax1.set_title(\"Global confirmed cases\", size=13)\n",
    "ax1.set_ylabel(\"Number of cases\", size=13)\n",
    "ax1.set_xlabel(\"Date\", size=13)\n",
    "fatalities_dates.plot(ax=ax2, color='orange')\n",
    "ax2.set_title(\"Global deceased cases\", size=13)\n",
    "ax2.set_ylabel(\"Number of cases\", size=13)\n",
    "ax2.set_xlabel(\"Date\", size=13)"
   ]
  },
  {
   "cell_type": "code",
   "execution_count": 12,
   "metadata": {},
   "outputs": [
    {
     "data": {
      "text/plain": [
       "<matplotlib.axes._subplots.AxesSubplot at 0x7f609049cc10>"
      ]
     },
     "execution_count": 12,
     "metadata": {},
     "output_type": "execute_result"
    },
    {
     "data": {
      "image/png": "[encoded data removed]",
      "text/plain": [
       "<Figure size 432x288 with 1 Axes>"
      ]
     },
     "metadata": {
      "needs_background": "light"
     },
     "output_type": "display_data"
    }
   ],
   "source": [
    "confirmed_total_date_Italy = df[df['Country_Region']=='Italy'].groupby(['Date']).agg({'ConfirmedCases':['sum']})\n",
    "fatalities_total_date_Italy = df[df['Country_Region']=='Italy'].groupby(['Date']).agg({'Fatalities':['sum']})\n",
    "total_date_Italy = confirmed_total_date_Italy.join(fatalities_total_date_Italy)\n",
    "total_date_Italy.plot(ax=plt.gca(), title='Italy')"
   ]
  },
  {
   "cell_type": "code",
   "execution_count": 13,
   "metadata": {},
   "outputs": [],
   "source": [
    "# building datasets for every country\n",
    "# &(df['Lat'] == df[df['Country/Region'] == c].Lat.iloc[0])\n",
    "countries_data = {}\n",
    "for c in df['Country_Region'].unique():\n",
    "    countries_data[c]=df[(df['Country_Region'] == c)]\n",
    "    countries_data[c].insert(0, 'New_ID', countries_data[c].Id - countries_data[c].Id.iloc[0])"
   ]
  },
  {
   "cell_type": "code",
   "execution_count": 14,
   "metadata": {},
   "outputs": [
    {
     "data": {
      "text/html": [
       "<div>\n",
       "<style scoped>\n",
       "    .dataframe tbody tr th:only-of-type {\n",
       "        vertical-align: middle;\n",
       "    }\n",
       "\n",
       "    .dataframe tbody tr th {\n",
       "        vertical-align: top;\n",
       "    }\n",
       "\n",
       "    .dataframe thead th {\n",
       "        text-align: right;\n",
       "    }\n",
       "</style>\n",
       "<table border=\"1\" class=\"dataframe\">\n",
       "  <thead>\n",
       "    <tr style=\"text-align: right;\">\n",
       "      <th></th>\n",
       "      <th>New_ID</th>\n",
       "      <th>Id</th>\n",
       "      <th>Province_State</th>\n",
       "      <th>Country_Region</th>\n",
       "      <th>Date</th>\n",
       "      <th>ConfirmedCases</th>\n",
       "      <th>Fatalities</th>\n",
       "    </tr>\n",
       "  </thead>\n",
       "  <tbody>\n",
       "    <tr>\n",
       "      <th>3430</th>\n",
       "      <td>0</td>\n",
       "      <td>4901</td>\n",
       "      <td>Anhui</td>\n",
       "      <td>China</td>\n",
       "      <td>2020-01-22</td>\n",
       "      <td>1.0</td>\n",
       "      <td>0.0</td>\n",
       "    </tr>\n",
       "    <tr>\n",
       "      <th>3431</th>\n",
       "      <td>1</td>\n",
       "      <td>4902</td>\n",
       "      <td>Anhui</td>\n",
       "      <td>China</td>\n",
       "      <td>2020-01-23</td>\n",
       "      <td>9.0</td>\n",
       "      <td>0.0</td>\n",
       "    </tr>\n",
       "    <tr>\n",
       "      <th>3432</th>\n",
       "      <td>2</td>\n",
       "      <td>4903</td>\n",
       "      <td>Anhui</td>\n",
       "      <td>China</td>\n",
       "      <td>2020-01-24</td>\n",
       "      <td>15.0</td>\n",
       "      <td>0.0</td>\n",
       "    </tr>\n",
       "    <tr>\n",
       "      <th>3433</th>\n",
       "      <td>3</td>\n",
       "      <td>4904</td>\n",
       "      <td>Anhui</td>\n",
       "      <td>China</td>\n",
       "      <td>2020-01-25</td>\n",
       "      <td>39.0</td>\n",
       "      <td>0.0</td>\n",
       "    </tr>\n",
       "    <tr>\n",
       "      <th>3434</th>\n",
       "      <td>4</td>\n",
       "      <td>4905</td>\n",
       "      <td>Anhui</td>\n",
       "      <td>China</td>\n",
       "      <td>2020-01-26</td>\n",
       "      <td>60.0</td>\n",
       "      <td>0.0</td>\n",
       "    </tr>\n",
       "    <tr>\n",
       "      <th>...</th>\n",
       "      <td>...</td>\n",
       "      <td>...</td>\n",
       "      <td>...</td>\n",
       "      <td>...</td>\n",
       "      <td>...</td>\n",
       "      <td>...</td>\n",
       "      <td>...</td>\n",
       "    </tr>\n",
       "    <tr>\n",
       "      <th>5735</th>\n",
       "      <td>3265</td>\n",
       "      <td>8166</td>\n",
       "      <td>Zhejiang</td>\n",
       "      <td>China</td>\n",
       "      <td>2020-03-27</td>\n",
       "      <td>1247.0</td>\n",
       "      <td>1.0</td>\n",
       "    </tr>\n",
       "    <tr>\n",
       "      <th>5736</th>\n",
       "      <td>3266</td>\n",
       "      <td>8167</td>\n",
       "      <td>Zhejiang</td>\n",
       "      <td>China</td>\n",
       "      <td>2020-03-28</td>\n",
       "      <td>1251.0</td>\n",
       "      <td>1.0</td>\n",
       "    </tr>\n",
       "    <tr>\n",
       "      <th>5737</th>\n",
       "      <td>3267</td>\n",
       "      <td>8168</td>\n",
       "      <td>Zhejiang</td>\n",
       "      <td>China</td>\n",
       "      <td>2020-03-29</td>\n",
       "      <td>1254.0</td>\n",
       "      <td>1.0</td>\n",
       "    </tr>\n",
       "    <tr>\n",
       "      <th>5738</th>\n",
       "      <td>3268</td>\n",
       "      <td>8169</td>\n",
       "      <td>Zhejiang</td>\n",
       "      <td>China</td>\n",
       "      <td>2020-03-30</td>\n",
       "      <td>1255.0</td>\n",
       "      <td>1.0</td>\n",
       "    </tr>\n",
       "    <tr>\n",
       "      <th>5739</th>\n",
       "      <td>3269</td>\n",
       "      <td>8170</td>\n",
       "      <td>Zhejiang</td>\n",
       "      <td>China</td>\n",
       "      <td>2020-03-31</td>\n",
       "      <td>1257.0</td>\n",
       "      <td>1.0</td>\n",
       "    </tr>\n",
       "  </tbody>\n",
       "</table>\n",
       "<p>2310 rows × 7 columns</p>\n",
       "</div>"
      ],
      "text/plain": [
       "      New_ID    Id Province_State Country_Region        Date  ConfirmedCases  \\\n",
       "3430       0  4901          Anhui          China  2020-01-22             1.0   \n",
       "3431       1  4902          Anhui          China  2020-01-23             9.0   \n",
       "3432       2  4903          Anhui          China  2020-01-24            15.0   \n",
       "3433       3  4904          Anhui          China  2020-01-25            39.0   \n",
       "3434       4  4905          Anhui          China  2020-01-26            60.0   \n",
       "...      ...   ...            ...            ...         ...             ...   \n",
       "5735    3265  8166       Zhejiang          China  2020-03-27          1247.0   \n",
       "5736    3266  8167       Zhejiang          China  2020-03-28          1251.0   \n",
       "5737    3267  8168       Zhejiang          China  2020-03-29          1254.0   \n",
       "5738    3268  8169       Zhejiang          China  2020-03-30          1255.0   \n",
       "5739    3269  8170       Zhejiang          China  2020-03-31          1257.0   \n",
       "\n",
       "      Fatalities  \n",
       "3430         0.0  \n",
       "3431         0.0  \n",
       "3432         0.0  \n",
       "3433         0.0  \n",
       "3434         0.0  \n",
       "...          ...  \n",
       "5735         1.0  \n",
       "5736         1.0  \n",
       "5737         1.0  \n",
       "5738         1.0  \n",
       "5739         1.0  \n",
       "\n",
       "[2310 rows x 7 columns]"
      ]
     },
     "execution_count": 14,
     "metadata": {},
     "output_type": "execute_result"
    }
   ],
   "source": [
    "countries_data['China']"
   ]
  },
  {
   "cell_type": "code",
   "execution_count": 19,
   "metadata": {},
   "outputs": [],
   "source": [
    "pd.set_option('mode.chained_assignment', None)\n",
    "def build_model(c, target, num): # num representes the day\n",
    "\n",
    "    data = countries_data[c]\n",
    "    data.New_ID = data.New_ID - data.New_ID.iloc[0]\n",
    "    X = np.array(data['New_ID']).reshape(-1, 1)\n",
    "    y = np.array(data[target])\n",
    "    X_train, X_test, y_train, y_test = train_test_split(X, y, test_size=0.2)\n",
    "    scores = []\n",
    "\n",
    "    for i in range(1, 11):\n",
    "        print(\"Euation of \"+str(i)+\" Degree BEGINS\")\n",
    "        poly = PolynomialFeatures(degree=i)\n",
    "        poly_x = poly.fit_transform(X_train)\n",
    "        pol_reg = LinearRegression()\n",
    "        pol_reg.fit(poly_x, y_train)\n",
    "        print(\"Euation of \"+str(i)+\" Degree Ends with acc = \"+str(pol_reg.score(poly.fit_transform(X_test), y_test)*100) + \"%\")\n",
    "        scores.append(pol_reg.score(poly.fit_transform(X_test), y_test))\n",
    "    \n",
    "    fig, (ax1, ax2) = plt.subplots(1, 2, figsize=(20,6))\n",
    "    ax1.plot(X, y)\n",
    "    ax1.set_title(c + \" confirmed cases\", size=13)\n",
    "    ax1.set_ylabel(\"Number of cases\", size=13)\n",
    "    ax1.set_xlabel(\"Date_ID\", size=13)\n",
    "    ax2.plot(range(1, 11), scores, color='orange')\n",
    "    ax2.set_title(\"Accuracy vs. Degree\", size=13)\n",
    "    ax2.set_ylabel(\"Accuracy\", size=13)\n",
    "    ax2.set_xlabel(\"Degree\", size=13)\n",
    "    \n",
    "    # finding best degree for each country\n",
    "    max_ = 0\n",
    "    max_i = 0\n",
    "    for index, acc in enumerate(scores):\n",
    "        if acc > max_:\n",
    "            max_ = acc\n",
    "            max_i = index\n",
    "    print(\"Best PolynomialDegree is \" + str(max_i+1) + \" with accuracy \" + str(max_*100) + \"%\")\n",
    "    max_i += 1\n",
    "    poly = PolynomialFeatures(degree=max_i)\n",
    "    poly_x = poly.fit_transform(X_train)\n",
    "    pol_reg = LinearRegression()\n",
    "    pol_reg.fit(poly_x, y_train)\n",
    "    prediction = pol_reg.predict(poly.fit_transform([[num]]))\n",
    "    return int(prediction)"
   ]
  },
  {
   "cell_type": "code",
   "execution_count": 20,
   "metadata": {},
   "outputs": [
    {
     "name": "stdout",
     "output_type": "stream",
     "text": [
      "Euation of 1 Degree BEGINS\n",
      "Euation of 1 Degree Ends with acc = 41.84830722397983%\n",
      "Euation of 2 Degree BEGINS\n",
      "Euation of 2 Degree Ends with acc = 79.94660552063648%\n",
      "Euation of 3 Degree BEGINS\n",
      "Euation of 3 Degree Ends with acc = 96.76891952366478%\n",
      "Euation of 4 Degree BEGINS\n",
      "Euation of 4 Degree Ends with acc = 99.53609955627388%\n",
      "Euation of 5 Degree BEGINS\n",
      "Euation of 5 Degree Ends with acc = 99.56325369616653%\n",
      "Euation of 6 Degree BEGINS\n",
      "Euation of 6 Degree Ends with acc = 99.60102661472884%\n",
      "Euation of 7 Degree BEGINS\n",
      "Euation of 7 Degree Ends with acc = 99.68294618389972%\n",
      "Euation of 8 Degree BEGINS\n",
      "Euation of 8 Degree Ends with acc = 99.73851989740055%\n",
      "Euation of 9 Degree BEGINS\n",
      "Euation of 9 Degree Ends with acc = 99.72392191739358%\n",
      "Euation of 10 Degree BEGINS\n",
      "Euation of 10 Degree Ends with acc = 99.72278060071295%\n",
      "Best PolynomialDegree is 8 with accuracy 99.73851989740055%\n"
     ]
    },
    {
     "data": {
      "text/plain": [
       "26"
      ]
     },
     "execution_count": 20,
     "metadata": {},
     "output_type": "execute_result"
    },
    {
     "data": {
      "image/png": "[encoded data removed]",
      "text/plain": [
       "<Figure size 1440x432 with 2 Axes>"
      ]
     },
     "metadata": {
      "needs_background": "light"
     },
     "output_type": "display_data"
    }
   ],
   "source": [
    "build_model('Egypt', 'Fatalities', 64) # for Egypt"
   ]
  },
  {
   "cell_type": "code",
   "execution_count": 21,
   "metadata": {},
   "outputs": [
    {
     "name": "stdout",
     "output_type": "stream",
     "text": [
      "Euation of 1 Degree BEGINS\n",
      "Euation of 1 Degree Ends with acc = 61.44188895485942%\n",
      "Euation of 2 Degree BEGINS\n",
      "Euation of 2 Degree Ends with acc = 92.44632394307071%\n",
      "Euation of 3 Degree BEGINS\n",
      "Euation of 3 Degree Ends with acc = 99.32393980391683%\n",
      "Euation of 4 Degree BEGINS\n",
      "Euation of 4 Degree Ends with acc = 99.35910651894076%\n",
      "Euation of 5 Degree BEGINS\n",
      "Euation of 5 Degree Ends with acc = 99.64656058414992%\n",
      "Euation of 6 Degree BEGINS\n",
      "Euation of 6 Degree Ends with acc = 99.80311717759389%\n",
      "Euation of 7 Degree BEGINS\n",
      "Euation of 7 Degree Ends with acc = 99.80345826056866%\n",
      "Euation of 8 Degree BEGINS\n",
      "Euation of 8 Degree Ends with acc = 99.81089066105655%\n",
      "Euation of 9 Degree BEGINS\n",
      "Euation of 9 Degree Ends with acc = 99.812783272541%\n",
      "Euation of 10 Degree BEGINS\n",
      "Euation of 10 Degree Ends with acc = 99.8130772302951%\n",
      "Best PolynomialDegree is 10 with accuracy 99.8130772302951%\n"
     ]
    },
    {
     "data": {
      "text/plain": [
       "487"
      ]
     },
     "execution_count": 21,
     "metadata": {},
     "output_type": "execute_result"
    },
    {
     "data": {
      "image/png": "[encoded data removed]",
      "text/plain": [
       "<Figure size 1440x432 with 2 Axes>"
      ]
     },
     "metadata": {
      "needs_background": "light"
     },
     "output_type": "display_data"
    }
   ],
   "source": [
    "build_model('Egypt', 'ConfirmedCases', 64) # for Egypt"
   ]
  },
  {
   "cell_type": "code",
   "execution_count": 23,
   "metadata": {},
   "outputs": [
    {
     "name": "stdout",
     "output_type": "stream",
     "text": [
      "Euation of 1 Degree BEGINS\n",
      "Euation of 1 Degree Ends with acc = 59.515781840511%\n",
      "Euation of 2 Degree BEGINS\n",
      "Euation of 2 Degree Ends with acc = 93.62638990564493%\n",
      "Euation of 3 Degree BEGINS\n",
      "Euation of 3 Degree Ends with acc = 99.15054926783927%\n",
      "Euation of 4 Degree BEGINS\n",
      "Euation of 4 Degree Ends with acc = 99.25395411775078%\n",
      "Euation of 5 Degree BEGINS\n",
      "Euation of 5 Degree Ends with acc = 99.63722840378338%\n",
      "Euation of 6 Degree BEGINS\n",
      "Euation of 6 Degree Ends with acc = 99.91759965169845%\n",
      "Euation of 7 Degree BEGINS\n",
      "Euation of 7 Degree Ends with acc = 99.92777085454956%\n",
      "Euation of 8 Degree BEGINS\n",
      "Euation of 8 Degree Ends with acc = 99.9320025697904%\n",
      "Euation of 9 Degree BEGINS\n",
      "Euation of 9 Degree Ends with acc = 99.94181163170536%\n",
      "Euation of 10 Degree BEGINS\n",
      "Euation of 10 Degree Ends with acc = 99.94262313644995%\n",
      "Best PolynomialDegree is 10 with accuracy 99.94262313644995%\n"
     ]
    },
    {
     "data": {
      "text/plain": [
       "58099"
      ]
     },
     "execution_count": 23,
     "metadata": {},
     "output_type": "execute_result"
    },
    {
     "data": {
      "image/png": "[encoded data removed]",
      "text/plain": [
       "<Figure size 1440x432 with 2 Axes>"
      ]
     },
     "metadata": {
      "needs_background": "light"
     },
     "output_type": "display_data"
    }
   ],
   "source": [
    "build_model('Italy','ConfirmedCases', 60)"
   ]
  },
  {
   "cell_type": "code",
   "execution_count": 22,
   "metadata": {},
   "outputs": [
    {
     "name": "stdout",
     "output_type": "stream",
     "text": [
      "Euation of 1 Degree BEGINS\n",
      "Euation of 1 Degree Ends with acc = 55.142014788568126%\n",
      "Euation of 2 Degree BEGINS\n",
      "Euation of 2 Degree Ends with acc = 88.45642128724567%\n",
      "Euation of 3 Degree BEGINS\n",
      "Euation of 3 Degree Ends with acc = 98.99954053520484%\n",
      "Euation of 4 Degree BEGINS\n",
      "Euation of 4 Degree Ends with acc = 99.8149509894633%\n",
      "Euation of 5 Degree BEGINS\n",
      "Euation of 5 Degree Ends with acc = 99.8581535394625%\n",
      "Euation of 6 Degree BEGINS\n",
      "Euation of 6 Degree Ends with acc = 99.94833691838109%\n",
      "Euation of 7 Degree BEGINS\n",
      "Euation of 7 Degree Ends with acc = 99.9758948858649%\n",
      "Euation of 8 Degree BEGINS\n",
      "Euation of 8 Degree Ends with acc = 99.9759956420117%\n",
      "Euation of 9 Degree BEGINS\n",
      "Euation of 9 Degree Ends with acc = 99.97897794566649%\n",
      "Euation of 10 Degree BEGINS\n",
      "Euation of 10 Degree Ends with acc = 99.98017926369698%\n",
      "Best PolynomialDegree is 10 with accuracy 99.98017926369698%\n"
     ]
    },
    {
     "data": {
      "text/plain": [
       "5344"
      ]
     },
     "execution_count": 22,
     "metadata": {},
     "output_type": "execute_result"
    },
    {
     "data": {
      "image/png": "[encoded data removed]",
      "text/plain": [
       "<Figure size 1440x432 with 2 Axes>"
      ]
     },
     "metadata": {
      "needs_background": "light"
     },
     "output_type": "display_data"
    }
   ],
   "source": [
    "build_model('Italy','Fatalities', 60)"
   ]
  },
  {
   "cell_type": "code",
   "execution_count": 24,
   "metadata": {},
   "outputs": [],
   "source": [
    "def build_model_reduced(c, target, num): # num representes the day\n",
    "\n",
    "    data = countries_data[c]\n",
    "    data.New_ID = data.New_ID - data.New_ID.iloc[0]\n",
    "    X = np.array(data['New_ID']).reshape(-1, 1)\n",
    "    y = np.array(data[target])\n",
    "    X_train, X_test, y_train, y_test = train_test_split(X, y, test_size=0.2)\n",
    "    scores = []\n",
    "\n",
    "    for i in range(1, 11):\n",
    "        poly = PolynomialFeatures(degree=i)\n",
    "        poly_x = poly.fit_transform(X_train)\n",
    "        pol_reg = LinearRegression()\n",
    "        pol_reg.fit(poly_x, y_train)\n",
    "        scores.append(pol_reg.score(poly.fit_transform(X_test), y_test))\n",
    "    \n",
    "    # finding best degree for each country\n",
    "    max_ = 0\n",
    "    max_i = 0\n",
    "    for index, acc in enumerate(scores):\n",
    "        if acc > max_:\n",
    "            max_ = acc\n",
    "            max_i = index\n",
    "    print(\"Best PolynomialDegree is \" + str(max_i+1) + \" with accuracy \" + str(max_*100) + \"%\")\n",
    "    max_i += 1\n",
    "    poly = PolynomialFeatures(degree=max_i)\n",
    "    poly_x = poly.fit_transform(X_train)\n",
    "    pol_reg = LinearRegression()\n",
    "    pol_reg.fit(poly_x, y_train)\n",
    "    prediction = pol_reg.predict(poly.fit_transform([[num]]))\n",
    "    return int(prediction)\n"
   ]
  },
  {
   "cell_type": "code",
   "execution_count": 25,
   "metadata": {},
   "outputs": [
    {
     "name": "stdout",
     "output_type": "stream",
     "text": [
      "Best PolynomialDegree is 9 with accuracy 99.5927920189993%\n"
     ]
    },
    {
     "data": {
      "text/plain": [
       "7"
      ]
     },
     "execution_count": 25,
     "metadata": {},
     "output_type": "execute_result"
    }
   ],
   "source": [
    "build_model_reduced('Egypt', 'Fatalities', 57)"
   ]
  },
  {
   "cell_type": "code",
   "execution_count": 28,
   "metadata": {},
   "outputs": [],
   "source": [
    "# test file reading\n",
    "dt = pd.read_csv('test (copy).csv')"
   ]
  },
  {
   "cell_type": "code",
   "execution_count": 29,
   "metadata": {},
   "outputs": [
    {
     "data": {
      "text/html": [
       "<div>\n",
       "<style scoped>\n",
       "    .dataframe tbody tr th:only-of-type {\n",
       "        vertical-align: middle;\n",
       "    }\n",
       "\n",
       "    .dataframe tbody tr th {\n",
       "        vertical-align: top;\n",
       "    }\n",
       "\n",
       "    .dataframe thead th {\n",
       "        text-align: right;\n",
       "    }\n",
       "</style>\n",
       "<table border=\"1\" class=\"dataframe\">\n",
       "  <thead>\n",
       "    <tr style=\"text-align: right;\">\n",
       "      <th></th>\n",
       "      <th>ForecastId</th>\n",
       "      <th>Province_State</th>\n",
       "      <th>Country_Region</th>\n",
       "      <th>Date</th>\n",
       "    </tr>\n",
       "  </thead>\n",
       "  <tbody>\n",
       "    <tr>\n",
       "      <th>0</th>\n",
       "      <td>1</td>\n",
       "      <td>NaN</td>\n",
       "      <td>Afghanistan</td>\n",
       "      <td>2020-03-19</td>\n",
       "    </tr>\n",
       "    <tr>\n",
       "      <th>1</th>\n",
       "      <td>2</td>\n",
       "      <td>NaN</td>\n",
       "      <td>Afghanistan</td>\n",
       "      <td>2020-03-20</td>\n",
       "    </tr>\n",
       "    <tr>\n",
       "      <th>2</th>\n",
       "      <td>3</td>\n",
       "      <td>NaN</td>\n",
       "      <td>Afghanistan</td>\n",
       "      <td>2020-03-21</td>\n",
       "    </tr>\n",
       "    <tr>\n",
       "      <th>3</th>\n",
       "      <td>4</td>\n",
       "      <td>NaN</td>\n",
       "      <td>Afghanistan</td>\n",
       "      <td>2020-03-22</td>\n",
       "    </tr>\n",
       "    <tr>\n",
       "      <th>4</th>\n",
       "      <td>5</td>\n",
       "      <td>NaN</td>\n",
       "      <td>Afghanistan</td>\n",
       "      <td>2020-03-23</td>\n",
       "    </tr>\n",
       "  </tbody>\n",
       "</table>\n",
       "</div>"
      ],
      "text/plain": [
       "   ForecastId Province_State Country_Region        Date\n",
       "0           1            NaN    Afghanistan  2020-03-19\n",
       "1           2            NaN    Afghanistan  2020-03-20\n",
       "2           3            NaN    Afghanistan  2020-03-21\n",
       "3           4            NaN    Afghanistan  2020-03-22\n",
       "4           5            NaN    Afghanistan  2020-03-23"
      ]
     },
     "execution_count": 29,
     "metadata": {},
     "output_type": "execute_result"
    }
   ],
   "source": [
    "dt.head()"
   ]
  },
  {
   "cell_type": "code",
   "execution_count": 30,
   "metadata": {},
   "outputs": [
    {
     "data": {
      "text/plain": [
       "('Afghanistan', '2020-03-19')"
      ]
     },
     "execution_count": 30,
     "metadata": {},
     "output_type": "execute_result"
    }
   ],
   "source": [
    "dt.iloc[15, 2], dt.iloc[0, 3]"
   ]
  },
  {
   "cell_type": "code",
   "execution_count": 33,
   "metadata": {},
   "outputs": [
    {
     "name": "stdout",
     "output_type": "stream",
     "text": [
      "writing to 1th row\n",
      "Best PolynomialDegree is 10 with accuracy 91.74187350954334%\n",
      "Best PolynomialDegree is 10 with accuracy 29.450498824008154%\n",
      "57 [1, 25, 0]\n",
      "57 [1, 0, 0]\n",
      "writing to 2th row\n",
      "Best PolynomialDegree is 5 with accuracy 99.10464731021864%\n",
      "Best PolynomialDegree is 1 with accuracy 0%\n",
      "58 [2, 29, 1]\n",
      "58 [2, 25, 0]\n",
      "writing to 3th row\n",
      "Best PolynomialDegree is 10 with accuracy 98.06437401076121%\n",
      "Best PolynomialDegree is 10 with accuracy 92.2105924054337%\n",
      "59 [3, 34, 1]\n",
      "59 [3, 29, 1]\n",
      "writing to 4th row\n",
      "Best PolynomialDegree is 9 with accuracy 98.62444528322033%\n",
      "Best PolynomialDegree is 10 with accuracy 96.6104115283515%\n",
      "60 [4, 43, 1]\n",
      "60 [4, 34, 1]\n",
      "writing to 5th row\n",
      "Best PolynomialDegree is 10 with accuracy 98.67838953512292%\n",
      "Best PolynomialDegree is 1 with accuracy 0%\n",
      "61 [5, 51, 1]\n",
      "61 [5, 43, 1]\n",
      "writing to 6th row\n",
      "Best PolynomialDegree is 8 with accuracy 93.9306868694438%\n",
      "Best PolynomialDegree is 5 with accuracy 90.32037164129181%\n",
      "62 [6, 64, 1]\n",
      "62 [6, 51, 1]\n",
      "writing to 7th row\n",
      "Best PolynomialDegree is 6 with accuracy 95.16102976480605%\n",
      "Best PolynomialDegree is 1 with accuracy 0%\n",
      "63 [7, 77, 1]\n",
      "63 [7, 64, 1]\n",
      "writing to 8th row\n",
      "Best PolynomialDegree is 6 with accuracy 98.31271744409963%\n",
      "Best PolynomialDegree is 10 with accuracy 93.45319237859472%\n",
      "64 [8, 86, 2]\n",
      "64 [8, 77, 1]\n",
      "writing to 9th row\n",
      "Best PolynomialDegree is 6 with accuracy 98.99887114216969%\n",
      "Best PolynomialDegree is 1 with accuracy 0%\n",
      "65 [9, 99, 2]\n",
      "65 [9, 86, 2]\n",
      "writing to 10th row\n",
      "Best PolynomialDegree is 10 with accuracy 98.36310220489615%\n",
      "Best PolynomialDegree is 10 with accuracy 99.29589856264684%\n",
      "66 [10, 118, 4]\n",
      "66 [10, 99, 2]\n",
      "writing to 11th row\n",
      "Best PolynomialDegree is 6 with accuracy 97.26007132147997%\n",
      "Best PolynomialDegree is 10 with accuracy 88.93746805671073%\n",
      "67 [11, 137, 4]\n",
      "67 [11, 118, 4]\n",
      "writing to 12th row\n",
      "Best PolynomialDegree is 9 with accuracy 98.36561148752018%\n",
      "Best PolynomialDegree is 10 with accuracy 55.193009577512875%\n",
      "68 [12, 151, 4]\n",
      "68 [12, 137, 4]\n",
      "writing to 13th row\n",
      "Best PolynomialDegree is 10 with accuracy 64.51308751025894%\n",
      "Best PolynomialDegree is 1 with accuracy 0%\n",
      "69 [13, 175, 4]\n",
      "69 [13, 151, 4]\n",
      "writing to 14th row\n",
      "Best PolynomialDegree is 10 with accuracy 96.36401110162097%\n",
      "Best PolynomialDegree is 10 with accuracy 90.42701184347763%\n",
      "70 [14, 195, 4]\n",
      "70 [14, 175, 4]\n",
      "writing to 15th row\n",
      "Best PolynomialDegree is 5 with accuracy 97.07601422185942%\n",
      "Best PolynomialDegree is 10 with accuracy 98.7152062457889%\n",
      "71 [15, 239, 4]\n",
      "71 [15, 195, 4]\n",
      "writing to 16th row\n",
      "Best PolynomialDegree is 6 with accuracy 99.22625981429914%\n",
      "Best PolynomialDegree is 5 with accuracy 94.18256511051942%\n",
      "72 [16, 268, 7]\n",
      "72 [16, 239, 4]\n",
      "writing to 17th row\n",
      "Best PolynomialDegree is 8 with accuracy 94.97178013105102%\n",
      "Best PolynomialDegree is 10 with accuracy 92.30188366621063%\n",
      "73 [17, 268, 9]\n",
      "73 [17, 268, 7]\n",
      "writing to 18th row\n",
      "Best PolynomialDegree is 4 with accuracy 98.98449795467329%\n",
      "Best PolynomialDegree is 5 with accuracy 98.35819648672151%\n",
      "74 [18, 290, 9]\n",
      "74 [18, 268, 9]\n",
      "writing to 19th row\n",
      "Best PolynomialDegree is 9 with accuracy 98.40429847510175%\n",
      "Best PolynomialDegree is 8 with accuracy 99.05874428956093%\n",
      "75 [19, 290, 16]\n",
      "75 [19, 290, 9]\n",
      "writing to 20th row\n",
      "Best PolynomialDegree is 6 with accuracy 94.55732122029933%\n",
      "Best PolynomialDegree is 9 with accuracy 88.70980271024335%\n",
      "76 [20, 437, 40]\n",
      "76 [20, 290, 16]\n",
      "writing to 21th row\n",
      "Best PolynomialDegree is 6 with accuracy 97.33036950904429%\n",
      "Best PolynomialDegree is 10 with accuracy 84.46300694435823%\n",
      "77 [21, 511, 87]\n",
      "77 [21, 437, 40]\n",
      "writing to 22th row\n",
      "Best PolynomialDegree is 5 with accuracy 97.61761943353125%\n",
      "Best PolynomialDegree is 5 with accuracy 96.25026841502738%\n",
      "78 [22, 511, 87]\n",
      "78 [22, 511, 87]\n",
      "writing to 23th row\n",
      "Best PolynomialDegree is 9 with accuracy 98.98998622679446%\n",
      "Best PolynomialDegree is 10 with accuracy 92.66049314990921%\n",
      "79 [23, 511, 149]\n",
      "79 [23, 511, 87]\n",
      "writing to 24th row\n",
      "Best PolynomialDegree is 9 with accuracy 98.69801061744604%\n",
      "Best PolynomialDegree is 10 with accuracy 90.02674881818254%\n",
      "80 [24, 511, 215]\n",
      "80 [24, 511, 149]\n",
      "writing to 25th row\n",
      "Best PolynomialDegree is 9 with accuracy 88.45238207945793%\n",
      "Best PolynomialDegree is 5 with accuracy 95.57921235533996%\n",
      "81 [25, 511, 215]\n",
      "81 [25, 511, 215]\n",
      "writing to 26th row\n",
      "Best PolynomialDegree is 10 with accuracy 96.58348263372278%\n",
      "Best PolynomialDegree is 1 with accuracy 0%\n",
      "82 [26, 1151, 215]\n",
      "82 [26, 511, 215]\n",
      "writing to 27th row\n",
      "Best PolynomialDegree is 4 with accuracy 98.78272018366665%\n",
      "Best PolynomialDegree is 10 with accuracy 98.24364225723255%\n",
      "83 [27, 1151, 529]\n",
      "83 [27, 1151, 215]\n",
      "writing to 28th row\n",
      "Best PolynomialDegree is 5 with accuracy 96.83405039129082%\n",
      "Best PolynomialDegree is 1 with accuracy 0%\n",
      "84 [28, 1151, 529]\n",
      "84 [28, 1151, 529]\n",
      "writing to 29th row\n",
      "Best PolynomialDegree is 6 with accuracy 98.03728998146475%\n",
      "Best PolynomialDegree is 10 with accuracy 97.88053824659775%\n",
      "85 [29, 1195, 887]\n",
      "85 [29, 1151, 529]\n",
      "writing to 30th row\n",
      "Best PolynomialDegree is 9 with accuracy 89.69683008090267%\n",
      "Best PolynomialDegree is 9 with accuracy 86.66249103463667%\n",
      "86 [30, 1195, 887]\n",
      "86 [30, 1195, 887]\n",
      "writing to 31th row\n",
      "Best PolynomialDegree is 5 with accuracy 96.58408606568078%\n",
      "Best PolynomialDegree is 10 with accuracy 97.026586398083%\n",
      "87 [31, 1264, 1640]\n",
      "87 [31, 1195, 887]\n",
      "writing to 32th row\n",
      "Best PolynomialDegree is 10 with accuracy 98.67056972357514%\n",
      "Best PolynomialDegree is 10 with accuracy 97.41064531250059%\n",
      "88 [32, 4225, 1640]\n",
      "88 [32, 1264, 1640]\n",
      "writing to 33th row\n",
      "Best PolynomialDegree is 10 with accuracy 66.28503892365754%\n",
      "Best PolynomialDegree is 10 with accuracy 96.76670499248947%\n",
      "89 [33, 4600, 2269]\n",
      "89 [33, 4225, 1640]\n",
      "writing to 34th row\n",
      "Best PolynomialDegree is 9 with accuracy 91.19647548140466%\n",
      "Best PolynomialDegree is 8 with accuracy 98.5473414692195%\n",
      "90 [34, 4600, 2269]\n",
      "90 [34, 4600, 2269]\n",
      "writing to 35th row\n",
      "Best PolynomialDegree is 6 with accuracy 98.58525754161018%\n",
      "Best PolynomialDegree is 10 with accuracy 88.81802739343895%\n",
      "91 [35, 4600, 2269]\n",
      "91 [35, 4600, 2269]\n",
      "writing to 36th row\n",
      "Best PolynomialDegree is 10 with accuracy 99.13253596959379%\n",
      "Best PolynomialDegree is 1 with accuracy 0%\n",
      "92 [36, 7642, 2269]\n",
      "92 [36, 4600, 2269]\n",
      "writing to 37th row\n",
      "Best PolynomialDegree is 4 with accuracy 98.90808353174198%\n",
      "Best PolynomialDegree is 5 with accuracy 97.62485992428125%\n",
      "93 [37, 7642, 2269]\n",
      "93 [37, 7642, 2269]\n",
      "writing to 38th row\n",
      "Best PolynomialDegree is 4 with accuracy 98.64038587610592%\n",
      "Best PolynomialDegree is 8 with accuracy 99.29894702126576%\n",
      "94 [38, 7642, 2269]\n",
      "94 [38, 7642, 2269]\n",
      "writing to 39th row\n",
      "Best PolynomialDegree is 9 with accuracy 99.50555376468505%\n",
      "Best PolynomialDegree is 8 with accuracy 97.85449273326589%\n",
      "95 [39, 7642, 2269]\n",
      "95 [39, 7642, 2269]\n",
      "writing to 40th row\n",
      "Best PolynomialDegree is 10 with accuracy 99.81353227204004%\n",
      "Best PolynomialDegree is 8 with accuracy 80.52622752344188%\n",
      "96 [40, 16685, 2337]\n",
      "96 [40, 7642, 2269]\n",
      "writing to 41th row\n",
      "Best PolynomialDegree is 4 with accuracy 98.90210030884776%\n",
      "Best PolynomialDegree is 5 with accuracy 90.34446116467201%\n",
      "97 [41, 16685, 2337]\n",
      "97 [41, 16685, 2337]\n",
      "writing to 42th row\n",
      "Best PolynomialDegree is 4 with accuracy 98.90569860148372%\n",
      "Best PolynomialDegree is 5 with accuracy 98.39125478079835%\n",
      "98 [42, 16685, 2337]\n",
      "98 [42, 16685, 2337]\n",
      "writing to 43th row\n",
      "Best PolynomialDegree is 10 with accuracy 99.04890717986284%\n",
      "Best PolynomialDegree is 6 with accuracy 98.30480482199519%\n",
      "99 [43, 169849, 2337]\n",
      "99 [43, 16685, 2337]\n",
      "writing to 44th row\n",
      "Best PolynomialDegree is 10 with accuracy 99.45580184026694%\n",
      "Best PolynomialDegree is 6 with accuracy 97.26132598151804%\n",
      "57 [44, 65, 1]\n",
      "57 [44, 0, 0]\n",
      "writing to 45th row\n",
      "Best PolynomialDegree is 9 with accuracy 99.52993768643707%\n",
      "Best PolynomialDegree is 6 with accuracy 99.01831219515664%\n",
      "58 [45, 75, 2]\n",
      "58 [45, 65, 1]\n",
      "writing to 46th row\n",
      "Best PolynomialDegree is 9 with accuracy 99.52288921985713%\n"
     ]
    },
    {
     "ename": "KeyboardInterrupt",
     "evalue": "",
     "output_type": "error",
     "traceback": [
      "\u001b[0;31m---------------------------------------------------------------------------\u001b[0m",
      "\u001b[0;31mKeyboardInterrupt\u001b[0m                         Traceback (most recent call last)",
      "\u001b[0;32m<ipython-input-33-991ecad0ccea>\u001b[0m in \u001b[0;36m<module>\u001b[0;34m\u001b[0m\n\u001b[1;32m     13\u001b[0m \u001b[0;34m\u001b[0m\u001b[0m\n\u001b[1;32m     14\u001b[0m         \u001b[0mconf\u001b[0m \u001b[0;34m=\u001b[0m \u001b[0mabs\u001b[0m\u001b[0;34m(\u001b[0m\u001b[0mbuild_model_reduced\u001b[0m\u001b[0;34m(\u001b[0m\u001b[0mdt\u001b[0m\u001b[0;34m.\u001b[0m\u001b[0miloc\u001b[0m\u001b[0;34m[\u001b[0m\u001b[0mi\u001b[0m\u001b[0;34m,\u001b[0m \u001b[0;36m2\u001b[0m\u001b[0;34m]\u001b[0m\u001b[0;34m,\u001b[0m \u001b[0;34m'ConfirmedCases'\u001b[0m\u001b[0;34m,\u001b[0m \u001b[0mcounter\u001b[0m\u001b[0;34m)\u001b[0m\u001b[0;34m)\u001b[0m\u001b[0;34m\u001b[0m\u001b[0;34m\u001b[0m\u001b[0m\n\u001b[0;32m---> 15\u001b[0;31m         \u001b[0mdeath\u001b[0m \u001b[0;34m=\u001b[0m \u001b[0mabs\u001b[0m\u001b[0;34m(\u001b[0m\u001b[0mbuild_model_reduced\u001b[0m\u001b[0;34m(\u001b[0m\u001b[0mdt\u001b[0m\u001b[0;34m.\u001b[0m\u001b[0miloc\u001b[0m\u001b[0;34m[\u001b[0m\u001b[0mi\u001b[0m\u001b[0;34m,\u001b[0m \u001b[0;36m2\u001b[0m\u001b[0;34m]\u001b[0m\u001b[0;34m,\u001b[0m \u001b[0;34m'Fatalities'\u001b[0m\u001b[0;34m,\u001b[0m \u001b[0mcounter\u001b[0m\u001b[0;34m)\u001b[0m\u001b[0;34m)\u001b[0m\u001b[0;34m\u001b[0m\u001b[0;34m\u001b[0m\u001b[0m\n\u001b[0m\u001b[1;32m     16\u001b[0m         \u001b[0mconf_arr\u001b[0m\u001b[0;34m.\u001b[0m\u001b[0mappend\u001b[0m\u001b[0;34m(\u001b[0m\u001b[0mconf\u001b[0m\u001b[0;34m)\u001b[0m\u001b[0;34m\u001b[0m\u001b[0;34m\u001b[0m\u001b[0m\n\u001b[1;32m     17\u001b[0m         \u001b[0mdeath_arr\u001b[0m\u001b[0;34m.\u001b[0m\u001b[0mappend\u001b[0m\u001b[0;34m(\u001b[0m\u001b[0mdeath\u001b[0m\u001b[0;34m)\u001b[0m\u001b[0;34m\u001b[0m\u001b[0;34m\u001b[0m\u001b[0m\n",
      "\u001b[0;32m<ipython-input-24-44aad0b7aa86>\u001b[0m in \u001b[0;36mbuild_model_reduced\u001b[0;34m(c, target, num)\u001b[0m\n\u001b[1;32m      2\u001b[0m \u001b[0;34m\u001b[0m\u001b[0m\n\u001b[1;32m      3\u001b[0m     \u001b[0mdata\u001b[0m \u001b[0;34m=\u001b[0m \u001b[0mcountries_data\u001b[0m\u001b[0;34m[\u001b[0m\u001b[0mc\u001b[0m\u001b[0;34m]\u001b[0m\u001b[0;34m\u001b[0m\u001b[0;34m\u001b[0m\u001b[0m\n\u001b[0;32m----> 4\u001b[0;31m     \u001b[0mdata\u001b[0m\u001b[0;34m.\u001b[0m\u001b[0mNew_ID\u001b[0m \u001b[0;34m=\u001b[0m \u001b[0mdata\u001b[0m\u001b[0;34m.\u001b[0m\u001b[0mNew_ID\u001b[0m \u001b[0;34m-\u001b[0m \u001b[0mdata\u001b[0m\u001b[0;34m.\u001b[0m\u001b[0mNew_ID\u001b[0m\u001b[0;34m.\u001b[0m\u001b[0miloc\u001b[0m\u001b[0;34m[\u001b[0m\u001b[0;36m0\u001b[0m\u001b[0;34m]\u001b[0m\u001b[0;34m\u001b[0m\u001b[0;34m\u001b[0m\u001b[0m\n\u001b[0m\u001b[1;32m      5\u001b[0m     \u001b[0mX\u001b[0m \u001b[0;34m=\u001b[0m \u001b[0mnp\u001b[0m\u001b[0;34m.\u001b[0m\u001b[0marray\u001b[0m\u001b[0;34m(\u001b[0m\u001b[0mdata\u001b[0m\u001b[0;34m[\u001b[0m\u001b[0;34m'New_ID'\u001b[0m\u001b[0;34m]\u001b[0m\u001b[0;34m)\u001b[0m\u001b[0;34m.\u001b[0m\u001b[0mreshape\u001b[0m\u001b[0;34m(\u001b[0m\u001b[0;34m-\u001b[0m\u001b[0;36m1\u001b[0m\u001b[0;34m,\u001b[0m \u001b[0;36m1\u001b[0m\u001b[0;34m)\u001b[0m\u001b[0;34m\u001b[0m\u001b[0;34m\u001b[0m\u001b[0m\n\u001b[1;32m      6\u001b[0m     \u001b[0my\u001b[0m \u001b[0;34m=\u001b[0m \u001b[0mnp\u001b[0m\u001b[0;34m.\u001b[0m\u001b[0marray\u001b[0m\u001b[0;34m(\u001b[0m\u001b[0mdata\u001b[0m\u001b[0;34m[\u001b[0m\u001b[0mtarget\u001b[0m\u001b[0;34m]\u001b[0m\u001b[0;34m)\u001b[0m\u001b[0;34m\u001b[0m\u001b[0;34m\u001b[0m\u001b[0m\n",
      "\u001b[0;32m~/anaconda3/lib/python3.7/site-packages/pandas/core/ops/common.py\u001b[0m in \u001b[0;36mnew_method\u001b[0;34m(self, other)\u001b[0m\n\u001b[1;32m     62\u001b[0m         \u001b[0mother\u001b[0m \u001b[0;34m=\u001b[0m \u001b[0mitem_from_zerodim\u001b[0m\u001b[0;34m(\u001b[0m\u001b[0mother\u001b[0m\u001b[0;34m)\u001b[0m\u001b[0;34m\u001b[0m\u001b[0;34m\u001b[0m\u001b[0m\n\u001b[1;32m     63\u001b[0m \u001b[0;34m\u001b[0m\u001b[0m\n\u001b[0;32m---> 64\u001b[0;31m         \u001b[0;32mreturn\u001b[0m \u001b[0mmethod\u001b[0m\u001b[0;34m(\u001b[0m\u001b[0mself\u001b[0m\u001b[0;34m,\u001b[0m \u001b[0mother\u001b[0m\u001b[0;34m)\u001b[0m\u001b[0;34m\u001b[0m\u001b[0;34m\u001b[0m\u001b[0m\n\u001b[0m\u001b[1;32m     65\u001b[0m \u001b[0;34m\u001b[0m\u001b[0m\n\u001b[1;32m     66\u001b[0m     \u001b[0;32mreturn\u001b[0m \u001b[0mnew_method\u001b[0m\u001b[0;34m\u001b[0m\u001b[0;34m\u001b[0m\u001b[0m\n",
      "\u001b[0;32m~/anaconda3/lib/python3.7/site-packages/pandas/core/ops/__init__.py\u001b[0m in \u001b[0;36mwrapper\u001b[0;34m(left, right)\u001b[0m\n\u001b[1;32m    498\u001b[0m         \u001b[0mlvalues\u001b[0m \u001b[0;34m=\u001b[0m \u001b[0mextract_array\u001b[0m\u001b[0;34m(\u001b[0m\u001b[0mleft\u001b[0m\u001b[0;34m,\u001b[0m \u001b[0mextract_numpy\u001b[0m\u001b[0;34m=\u001b[0m\u001b[0;32mTrue\u001b[0m\u001b[0;34m)\u001b[0m\u001b[0;34m\u001b[0m\u001b[0;34m\u001b[0m\u001b[0m\n\u001b[1;32m    499\u001b[0m         \u001b[0mrvalues\u001b[0m \u001b[0;34m=\u001b[0m \u001b[0mextract_array\u001b[0m\u001b[0;34m(\u001b[0m\u001b[0mright\u001b[0m\u001b[0;34m,\u001b[0m \u001b[0mextract_numpy\u001b[0m\u001b[0;34m=\u001b[0m\u001b[0;32mTrue\u001b[0m\u001b[0;34m)\u001b[0m\u001b[0;34m\u001b[0m\u001b[0;34m\u001b[0m\u001b[0m\n\u001b[0;32m--> 500\u001b[0;31m         \u001b[0mresult\u001b[0m \u001b[0;34m=\u001b[0m \u001b[0marithmetic_op\u001b[0m\u001b[0;34m(\u001b[0m\u001b[0mlvalues\u001b[0m\u001b[0;34m,\u001b[0m \u001b[0mrvalues\u001b[0m\u001b[0;34m,\u001b[0m \u001b[0mop\u001b[0m\u001b[0;34m,\u001b[0m \u001b[0mstr_rep\u001b[0m\u001b[0;34m)\u001b[0m\u001b[0;34m\u001b[0m\u001b[0;34m\u001b[0m\u001b[0m\n\u001b[0m\u001b[1;32m    501\u001b[0m \u001b[0;34m\u001b[0m\u001b[0m\n\u001b[1;32m    502\u001b[0m         \u001b[0;32mreturn\u001b[0m \u001b[0m_construct_result\u001b[0m\u001b[0;34m(\u001b[0m\u001b[0mleft\u001b[0m\u001b[0;34m,\u001b[0m \u001b[0mresult\u001b[0m\u001b[0;34m,\u001b[0m \u001b[0mindex\u001b[0m\u001b[0;34m=\u001b[0m\u001b[0mleft\u001b[0m\u001b[0;34m.\u001b[0m\u001b[0mindex\u001b[0m\u001b[0;34m,\u001b[0m \u001b[0mname\u001b[0m\u001b[0;34m=\u001b[0m\u001b[0mres_name\u001b[0m\u001b[0;34m)\u001b[0m\u001b[0;34m\u001b[0m\u001b[0;34m\u001b[0m\u001b[0m\n",
      "\u001b[0;32m~/anaconda3/lib/python3.7/site-packages/pandas/core/ops/array_ops.py\u001b[0m in \u001b[0;36marithmetic_op\u001b[0;34m(left, right, op, str_rep)\u001b[0m\n\u001b[1;32m    182\u001b[0m     \u001b[0mrvalues\u001b[0m \u001b[0;34m=\u001b[0m \u001b[0mright\u001b[0m\u001b[0;34m\u001b[0m\u001b[0;34m\u001b[0m\u001b[0m\n\u001b[1;32m    183\u001b[0m \u001b[0;34m\u001b[0m\u001b[0m\n\u001b[0;32m--> 184\u001b[0;31m     \u001b[0mrvalues\u001b[0m \u001b[0;34m=\u001b[0m \u001b[0mmaybe_upcast_for_op\u001b[0m\u001b[0;34m(\u001b[0m\u001b[0mrvalues\u001b[0m\u001b[0;34m,\u001b[0m \u001b[0mlvalues\u001b[0m\u001b[0;34m.\u001b[0m\u001b[0mshape\u001b[0m\u001b[0;34m)\u001b[0m\u001b[0;34m\u001b[0m\u001b[0;34m\u001b[0m\u001b[0m\n\u001b[0m\u001b[1;32m    185\u001b[0m \u001b[0;34m\u001b[0m\u001b[0m\n\u001b[1;32m    186\u001b[0m     if should_extension_dispatch(left, rvalues) or isinstance(\n",
      "\u001b[0;32m~/anaconda3/lib/python3.7/site-packages/pandas/core/ops/__init__.py\u001b[0m in \u001b[0;36mmaybe_upcast_for_op\u001b[0;34m(obj, shape)\u001b[0m\n\u001b[1;32m    191\u001b[0m         \u001b[0;32mreturn\u001b[0m \u001b[0mTimestamp\u001b[0m\u001b[0;34m(\u001b[0m\u001b[0mobj\u001b[0m\u001b[0;34m)\u001b[0m\u001b[0;34m\u001b[0m\u001b[0;34m\u001b[0m\u001b[0m\n\u001b[1;32m    192\u001b[0m \u001b[0;34m\u001b[0m\u001b[0m\n\u001b[0;32m--> 193\u001b[0;31m     \u001b[0;32melif\u001b[0m \u001b[0misinstance\u001b[0m\u001b[0;34m(\u001b[0m\u001b[0mobj\u001b[0m\u001b[0;34m,\u001b[0m \u001b[0mnp\u001b[0m\u001b[0;34m.\u001b[0m\u001b[0mtimedelta64\u001b[0m\u001b[0;34m)\u001b[0m\u001b[0;34m:\u001b[0m\u001b[0;34m\u001b[0m\u001b[0;34m\u001b[0m\u001b[0m\n\u001b[0m\u001b[1;32m    194\u001b[0m         \u001b[0;32mif\u001b[0m \u001b[0misna\u001b[0m\u001b[0;34m(\u001b[0m\u001b[0mobj\u001b[0m\u001b[0;34m)\u001b[0m\u001b[0;34m:\u001b[0m\u001b[0;34m\u001b[0m\u001b[0;34m\u001b[0m\u001b[0m\n\u001b[1;32m    195\u001b[0m             \u001b[0;31m# wrapping timedelta64(\"NaT\") in Timedelta returns NaT,\u001b[0m\u001b[0;34m\u001b[0m\u001b[0;34m\u001b[0m\u001b[0;34m\u001b[0m\u001b[0m\n",
      "\u001b[0;31mKeyboardInterrupt\u001b[0m: "
     ]
    }
   ],
   "source": [
    "import csv\n",
    "counter = 57\n",
    "with open('submission.csv', 'w', newline='') as file:\n",
    "    writer = csv.writer(file)\n",
    "    writer.writerow([\"ForecastId\", \"ConfirmedCases\", \"Fatalities\"])\n",
    "    conf_arr = []\n",
    "    death_arr = []\n",
    "    for i in range(0, 57):\n",
    "        conf_arr.append(0)\n",
    "        death_arr.append(0)\n",
    "    for i in range(1, len(dt)+1):\n",
    "        print('writing to ' + str(i) + 'th row')\n",
    "\n",
    "        conf = abs(build_model_reduced(dt.iloc[i, 2], 'ConfirmedCases', counter))\n",
    "        death = abs(build_model_reduced(dt.iloc[i, 2], 'Fatalities', counter))\n",
    "        conf_arr.append(conf)\n",
    "        death_arr.append(death)\n",
    "        if(conf_arr[-1] < conf_arr[-2]):\n",
    "            conf_arr[-1] = conf_arr[-2]\n",
    "        if(death_arr[-1] < death_arr[-2]):\n",
    "            death_arr[-1] = death_arr[-2]\n",
    "        print(counter, [i, conf_arr[-1], death_arr[-1]])\n",
    "        print(counter, [i, conf_arr[-2], death_arr[-2]])\n",
    "        writer.writerow([i, conf, death])\n",
    "        \n",
    "        if counter == 99:\n",
    "            counter = 57\n",
    "            conf_arr = []\n",
    "            death_arr = []\n",
    "            for i in range(0, 57):\n",
    "                conf_arr.append(0)\n",
    "                death_arr.append(0)\n",
    "        else:\n",
    "            counter += 1"
   ]
  },
  {
   "cell_type": "code",
   "execution_count": null,
   "metadata": {},
   "outputs": [],
   "source": []
  }
 ],
 "metadata": {
  "kernelspec": {
   "display_name": "Python 3",
   "language": "python",
   "name": "python3"
  },
  "language_info": {
   "codemirror_mode": {
    "name": "ipython",
    "version": 3
   },
   "file_extension": ".py",
   "mimetype": "text/x-python",
   "name": "python",
   "nbconvert_exporter": "python",
   "pygments_lexer": "ipython3",
   "version": "3.7.6"
  }
 },
 "nbformat": 4,
 "nbformat_minor": 4
}
